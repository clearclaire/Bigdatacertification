{
 "cells": [
  {
   "cell_type": "code",
   "execution_count": 41,
   "source": [
    "# 실제시험에서 꼭 print로 함수 출력하기!! \n",
    "# 필요한건 하나씩 떼서 다른 노트북에다 실행해보기\n",
    "import pandas as pd\n",
    "data = pd.read_csv('/Users/dabeen/Desktop/DA_01/bigData-main/mtcars.csv')\n",
    "print(data.head())"
   ],
   "outputs": [
    {
     "output_type": "stream",
     "name": "stdout",
     "text": [
      "          Unnamed: 0   mpg  cyl   disp   hp  drat     wt   qsec  vs      am  \\\n",
      "0          Mazda RX4  21.0  6.0  160.0  110  3.90  2.620  16.46   0  manual   \n",
      "1      Mazda RX4 Wag  21.0  6.0  160.0  110  3.90  2.875  17.02   0  manual   \n",
      "2         Datsun 710  22.8  4.0  108.0   93  3.85  2.320  18.61   1  manual   \n",
      "3     Hornet 4 Drive  21.4  6.0  258.0  110  3.08  3.215   0.10   1    auto   \n",
      "4  Hornet Sportabout  18.7  8.0  360.0  175  3.15  3.440  17.02   0    auto   \n",
      "\n",
      "  gear  carb  \n",
      "0    4     4  \n",
      "1    4     4  \n",
      "2    4     1  \n",
      "3    3     1  \n",
      "4    3     2  \n"
     ]
    }
   ],
   "metadata": {}
  },
  {
   "cell_type": "code",
   "execution_count": 42,
   "source": [
    "# 데이터 모양 확인하기 : shape\n",
    "print(data.shape)\n",
    "\n",
    "# 데이터 타입 확인하기 : type\n",
    "print(type(data))\n",
    "\n",
    "# 데이터의 열 확인하기 : columns\n",
    "print(data.columns)\n",
    "\n",
    "# 기초 통계량 확인하기 : describe\n",
    "print(data.describe())\n",
    "print(data['hp'].describe())\n",
    "\n",
    "# 데이터의 중복 제거하기 : unique\n",
    "print(data['am'].unique())\n",
    "print(data['gear'].unique())\n",
    "print(data['vs'].unique())\n",
    "\n",
    "# 요약정보 확인하기 : info\n",
    "print(data.info())\n",
    "\n",
    "# 상관관계 구하기 : corr\n",
    "print(data.corr())"
   ],
   "outputs": [
    {
     "output_type": "stream",
     "name": "stdout",
     "text": [
      "(32, 12)\n",
      "<class 'pandas.core.frame.DataFrame'>\n",
      "Index(['Unnamed: 0', 'mpg', 'cyl', 'disp', 'hp', 'drat', 'wt', 'qsec', 'vs',\n",
      "       'am', 'gear', 'carb'],\n",
      "      dtype='object')\n",
      "             mpg        cyl        disp          hp       drat         wt  \\\n",
      "count  32.000000  30.000000   32.000000   32.000000  32.000000  32.000000   \n",
      "mean   20.090625   7.600000  230.721875  146.687500   3.596563   3.217250   \n",
      "std     6.026948   8.194195  123.938694   68.562868   0.534679   0.978457   \n",
      "min    10.400000   4.000000   71.100000   52.000000   2.760000   1.513000   \n",
      "25%    15.425000   4.000000  120.825000   96.500000   3.080000   2.581250   \n",
      "50%    19.200000   6.000000  196.300000  123.000000   3.695000   3.325000   \n",
      "75%    22.800000   8.000000  326.000000  180.000000   3.920000   3.610000   \n",
      "max    33.900000  50.000000  472.000000  335.000000   4.930000   5.424000   \n",
      "\n",
      "             qsec         vs     carb  \n",
      "count   31.000000  32.000000  32.0000  \n",
      "mean    19.866774   0.437500   2.8125  \n",
      "std     15.310469   0.504016   1.6152  \n",
      "min      0.100000   0.000000   1.0000  \n",
      "25%     16.785000   0.000000   2.0000  \n",
      "50%     17.600000   0.000000   2.0000  \n",
      "75%     18.755000   1.000000   4.0000  \n",
      "max    100.000000   1.000000   8.0000  \n",
      "count     32.000000\n",
      "mean     146.687500\n",
      "std       68.562868\n",
      "min       52.000000\n",
      "25%       96.500000\n",
      "50%      123.000000\n",
      "75%      180.000000\n",
      "max      335.000000\n",
      "Name: hp, dtype: float64\n",
      "['manual' 'auto']\n",
      "['4' '3' '*3' '5' '*5']\n",
      "[0 1]\n",
      "<class 'pandas.core.frame.DataFrame'>\n",
      "RangeIndex: 32 entries, 0 to 31\n",
      "Data columns (total 12 columns):\n",
      " #   Column      Non-Null Count  Dtype  \n",
      "---  ------      --------------  -----  \n",
      " 0   Unnamed: 0  32 non-null     object \n",
      " 1   mpg         32 non-null     float64\n",
      " 2   cyl         30 non-null     float64\n",
      " 3   disp        32 non-null     float64\n",
      " 4   hp          32 non-null     int64  \n",
      " 5   drat        32 non-null     float64\n",
      " 6   wt          32 non-null     float64\n",
      " 7   qsec        31 non-null     float64\n",
      " 8   vs          32 non-null     int64  \n",
      " 9   am          32 non-null     object \n",
      " 10  gear        32 non-null     object \n",
      " 11  carb        32 non-null     int64  \n",
      "dtypes: float64(6), int64(3), object(3)\n",
      "memory usage: 3.1+ KB\n",
      "None\n",
      "           mpg       cyl      disp        hp      drat        wt      qsec  \\\n",
      "mpg   1.000000 -0.460227 -0.847551 -0.776168  0.681172 -0.867659  0.013668   \n",
      "cyl  -0.460227  1.000000  0.544876  0.323293 -0.372671  0.533690 -0.012755   \n",
      "disp -0.847551  0.544876  1.000000  0.790949 -0.710214  0.887980  0.181810   \n",
      "hp   -0.776168  0.323293  0.790949  1.000000 -0.448759  0.658748  0.010807   \n",
      "drat  0.681172 -0.372671 -0.710214 -0.448759  1.000000 -0.712441 -0.120283   \n",
      "wt   -0.867659  0.533690  0.887980  0.658748 -0.712441  1.000000  0.093900   \n",
      "qsec  0.013668 -0.012755  0.181810  0.010807 -0.120283  0.093900  1.000000   \n",
      "vs    0.664039 -0.323960 -0.710416 -0.723097  0.440278 -0.554916 -0.112146   \n",
      "carb -0.550925  0.239980  0.394977  0.749812 -0.090790  0.427606 -0.120312   \n",
      "\n",
      "            vs      carb  \n",
      "mpg   0.664039 -0.550925  \n",
      "cyl  -0.323960  0.239980  \n",
      "disp -0.710416  0.394977  \n",
      "hp   -0.723097  0.749812  \n",
      "drat  0.440278 -0.090790  \n",
      "wt   -0.554916  0.427606  \n",
      "qsec -0.112146 -0.120312  \n",
      "vs    1.000000 -0.569607  \n",
      "carb -0.569607  1.000000  \n"
     ]
    }
   ],
   "metadata": {}
  },
  {
   "cell_type": "code",
   "execution_count": 43,
   "source": [
    "X = data.drop(columns='mpg')\n",
    "Y = data['mpg']\n",
    "\n",
    "print(X.head())\n",
    "print(X.columns)\n",
    "\n",
    "print(Y.head())"
   ],
   "outputs": [
    {
     "output_type": "stream",
     "name": "stdout",
     "text": [
      "          Unnamed: 0  cyl   disp   hp  drat     wt   qsec  vs      am gear  \\\n",
      "0          Mazda RX4  6.0  160.0  110  3.90  2.620  16.46   0  manual    4   \n",
      "1      Mazda RX4 Wag  6.0  160.0  110  3.90  2.875  17.02   0  manual    4   \n",
      "2         Datsun 710  4.0  108.0   93  3.85  2.320  18.61   1  manual    4   \n",
      "3     Hornet 4 Drive  6.0  258.0  110  3.08  3.215   0.10   1    auto    3   \n",
      "4  Hornet Sportabout  8.0  360.0  175  3.15  3.440  17.02   0    auto    3   \n",
      "\n",
      "   carb  \n",
      "0     4  \n",
      "1     4  \n",
      "2     1  \n",
      "3     1  \n",
      "4     2  \n",
      "Index(['Unnamed: 0', 'cyl', 'disp', 'hp', 'drat', 'wt', 'qsec', 'vs', 'am',\n",
      "       'gear', 'carb'],\n",
      "      dtype='object')\n",
      "0    21.0\n",
      "1    21.0\n",
      "2    22.8\n",
      "3    21.4\n",
      "4    18.7\n",
      "Name: mpg, dtype: float64\n"
     ]
    }
   ],
   "metadata": {}
  },
  {
   "cell_type": "code",
   "execution_count": 44,
   "source": [
    "X = X.drop(columns='Unnamed: 0')\n",
    "print(X.head())\n",
    "\n",
    "# X = X.iloc[:, 1:]"
   ],
   "outputs": [
    {
     "output_type": "stream",
     "name": "stdout",
     "text": [
      "   cyl   disp   hp  drat     wt   qsec  vs      am gear  carb\n",
      "0  6.0  160.0  110  3.90  2.620  16.46   0  manual    4     4\n",
      "1  6.0  160.0  110  3.90  2.875  17.02   0  manual    4     4\n",
      "2  4.0  108.0   93  3.85  2.320  18.61   1  manual    4     1\n",
      "3  6.0  258.0  110  3.08  3.215   0.10   1    auto    3     1\n",
      "4  8.0  360.0  175  3.15  3.440  17.02   0    auto    3     2\n"
     ]
    }
   ],
   "metadata": {}
  },
  {
   "cell_type": "code",
   "execution_count": 45,
   "source": [
    "print(X.isnull().sum())"
   ],
   "outputs": [
    {
     "output_type": "stream",
     "name": "stdout",
     "text": [
      "cyl     2\n",
      "disp    0\n",
      "hp      0\n",
      "drat    0\n",
      "wt      0\n",
      "qsec    1\n",
      "vs      0\n",
      "am      0\n",
      "gear    0\n",
      "carb    0\n",
      "dtype: int64\n"
     ]
    }
   ],
   "metadata": {}
  },
  {
   "cell_type": "code",
   "execution_count": 46,
   "source": [
    "# 평균값으로 대치하기\n",
    "X_cyl_mean = X['cyl'].mean()\n",
    "X['cyl'] = X['cyl'].fillna(X_cyl_mean)\n",
    "print(X.isnull().sum())"
   ],
   "outputs": [
    {
     "output_type": "stream",
     "name": "stdout",
     "text": [
      "cyl     0\n",
      "disp    0\n",
      "hp      0\n",
      "drat    0\n",
      "wt      0\n",
      "qsec    1\n",
      "vs      0\n",
      "am      0\n",
      "gear    0\n",
      "carb    0\n",
      "dtype: int64\n"
     ]
    }
   ],
   "metadata": {}
  },
  {
   "cell_type": "code",
   "execution_count": 47,
   "source": [
    "# 중위값으로 대치하기\n",
    "X_qsec_median = X['qsec'].median()\n",
    "X['qsec'] = X['qsec'].fillna(X_qsec_median)\n",
    "print(X.isnull().sum())"
   ],
   "outputs": [
    {
     "output_type": "stream",
     "name": "stdout",
     "text": [
      "cyl     0\n",
      "disp    0\n",
      "hp      0\n",
      "drat    0\n",
      "wt      0\n",
      "qsec    0\n",
      "vs      0\n",
      "am      0\n",
      "gear    0\n",
      "carb    0\n",
      "dtype: int64\n"
     ]
    }
   ],
   "metadata": {}
  },
  {
   "cell_type": "code",
   "execution_count": 48,
   "source": [
    "# 결측치 임의의 값으로 교체\n",
    "# X['column name'].fillna(number)\n",
    "# 결측치 임의의 값으로 삭제\n",
    "# X['column name'].dropna()\n",
    "# X.drop(columns=['column name'])"
   ],
   "outputs": [],
   "metadata": {}
  },
  {
   "cell_type": "code",
   "execution_count": 49,
   "source": [
    "# 잘못된 값을 올바르게 바꾸기\n",
    "\n",
    "# gear 열의 값을 확인하기\n",
    "print(X['gear'].unique())\n",
    "\n",
    "# gear 열의 '*3'은 '3'으로, '*5'는 '5'로 바꾼 경우의 값 확인하기\n",
    "print(X['gear'].replace('*3','3').replace('*5','5'))\n",
    "\n",
    "# gear 열의 '*3'은 '3'으로, '*5'는 '5'로 바꾼 결과를 gear열에 저장하기\n",
    "X['gear'] = X['gear'].replace('*3','3').replace('*5','5')\n",
    "\n",
    "# gear 열에서 중복되지 않은 값을 확인하기\n",
    "print(X['gear'].unique())"
   ],
   "outputs": [
    {
     "output_type": "stream",
     "name": "stdout",
     "text": [
      "['4' '3' '*3' '5' '*5']\n",
      "0     4\n",
      "1     4\n",
      "2     4\n",
      "3     3\n",
      "4     3\n",
      "5     3\n",
      "6     3\n",
      "7     4\n",
      "8     4\n",
      "9     4\n",
      "10    4\n",
      "11    3\n",
      "12    3\n",
      "13    3\n",
      "14    3\n",
      "15    3\n",
      "16    3\n",
      "17    4\n",
      "18    4\n",
      "19    4\n",
      "20    3\n",
      "21    3\n",
      "22    3\n",
      "23    3\n",
      "24    3\n",
      "25    4\n",
      "26    5\n",
      "27    5\n",
      "28    5\n",
      "29    5\n",
      "30    5\n",
      "31    4\n",
      "Name: gear, dtype: object\n",
      "['4' '3' '5']\n"
     ]
    }
   ],
   "metadata": {}
  },
  {
   "cell_type": "code",
   "execution_count": 50,
   "source": [
    "# 사분범위 활용하기\n",
    "\n",
    "X_describe = X.describe()\n",
    "print(X_describe)\n",
    "\n",
    "# X_describe 변수에서 '75%'행과 '25%'행을 확인하기\n",
    "print(X_describe.loc['75%'], X_describe.loc['25%'])\n",
    "\n",
    "# IQR을 계산한 후, X_iqr 변수에 저장하기\n",
    "X_iqr = X_describe.loc['75%'] - X_describe.loc['25%']\n",
    "print(X_iqr)\n",
    "\n",
    "# 각 열의 3사분위수 + 1.5 * IQR 값을 계산하기\n",
    "print(X_describe.loc['75%'] + (1.5 * X_iqr))\n",
    "\n",
    "# X변수의 최댓값 확인하기\n",
    "print(X_describe.loc['max'])\n",
    "\n",
    "# cyl 열 값이 14를 초과하는 값 추출하기\n",
    "print(X.loc[X['cyl'] > 14])\n",
    "\n",
    "# X 변수에서 인덱스 14이고 열이 cyl인 값을 14로 변경하기\n",
    "X.loc[14, 'cyl'] = 14\n",
    "X.loc[14, 'cyl']\n",
    "\n",
    "\n",
    "# hp열의 값이 305.25를 초과하는 값 추출하기\n",
    "print(X.loc[X['hp'] > 305.25])\n",
    "\n",
    "# X변수에서 인덱스 30이고 열이 hp인 값을 305.25로 변경하기\n",
    "X.loc[30, 'hp'] = 305.25\n",
    "X.loc[30, 'hp']\n",
    "\n",
    "\n",
    "# 각 열의 1사분위수 - 1.5 * IQR 값을 계산하기\n",
    "print(X_describe.loc['25%'] - (1.5 * X_iqr))\n",
    "\n",
    "# X 변수의 최솟값 확인하기\n",
    "print(X_describe.loc['min'])"
   ],
   "outputs": [
    {
     "output_type": "stream",
     "name": "stdout",
     "text": [
      "             cyl        disp          hp       drat         wt        qsec  \\\n",
      "count  32.000000   32.000000   32.000000  32.000000  32.000000   32.000000   \n",
      "mean    7.600000  230.721875  146.687500   3.596563   3.217250   19.795938   \n",
      "std     7.925459  123.938694   68.562868   0.534679   0.978457   15.066831   \n",
      "min     4.000000   71.100000   52.000000   2.760000   1.513000    0.100000   \n",
      "25%     4.000000  120.825000   96.500000   3.080000   2.581250   16.827500   \n",
      "50%     6.000000  196.300000  123.000000   3.695000   3.325000   17.600000   \n",
      "75%     8.000000  326.000000  180.000000   3.920000   3.610000   18.682500   \n",
      "max    50.000000  472.000000  335.000000   4.930000   5.424000  100.000000   \n",
      "\n",
      "              vs     carb  \n",
      "count  32.000000  32.0000  \n",
      "mean    0.437500   2.8125  \n",
      "std     0.504016   1.6152  \n",
      "min     0.000000   1.0000  \n",
      "25%     0.000000   2.0000  \n",
      "50%     0.000000   2.0000  \n",
      "75%     1.000000   4.0000  \n",
      "max     1.000000   8.0000  \n",
      "cyl       8.0000\n",
      "disp    326.0000\n",
      "hp      180.0000\n",
      "drat      3.9200\n",
      "wt        3.6100\n",
      "qsec     18.6825\n",
      "vs        1.0000\n",
      "carb      4.0000\n",
      "Name: 75%, dtype: float64 cyl       4.00000\n",
      "disp    120.82500\n",
      "hp       96.50000\n",
      "drat      3.08000\n",
      "wt        2.58125\n",
      "qsec     16.82750\n",
      "vs        0.00000\n",
      "carb      2.00000\n",
      "Name: 25%, dtype: float64\n",
      "cyl       4.00000\n",
      "disp    205.17500\n",
      "hp       83.50000\n",
      "drat      0.84000\n",
      "wt        1.02875\n",
      "qsec      1.85500\n",
      "vs        1.00000\n",
      "carb      2.00000\n",
      "dtype: float64\n",
      "cyl      14.000000\n",
      "disp    633.762500\n",
      "hp      305.250000\n",
      "drat      5.180000\n",
      "wt        5.153125\n",
      "qsec     21.465000\n",
      "vs        2.500000\n",
      "carb      7.000000\n",
      "dtype: float64\n",
      "cyl      50.000\n",
      "disp    472.000\n",
      "hp      335.000\n",
      "drat      4.930\n",
      "wt        5.424\n",
      "qsec    100.000\n",
      "vs        1.000\n",
      "carb      8.000\n",
      "Name: max, dtype: float64\n",
      "     cyl   disp   hp  drat    wt   qsec  vs    am gear  carb\n",
      "14  50.0  472.0  205  2.93  5.25  17.98   0  auto    3     4\n",
      "    cyl   disp   hp  drat    wt  qsec  vs      am gear  carb\n",
      "30  8.0  301.0  335  3.54  3.57  14.6   0  manual    5     8\n",
      "cyl      -2.000000\n",
      "disp   -186.937500\n",
      "hp      -28.750000\n",
      "drat      1.820000\n",
      "wt        1.038125\n",
      "qsec     14.045000\n",
      "vs       -1.500000\n",
      "carb     -1.000000\n",
      "dtype: float64\n",
      "cyl      4.000\n",
      "disp    71.100\n",
      "hp      52.000\n",
      "drat     2.760\n",
      "wt       1.513\n",
      "qsec     0.100\n",
      "vs       0.000\n",
      "carb     1.000\n",
      "Name: min, dtype: float64\n"
     ]
    }
   ],
   "metadata": {}
  },
  {
   "cell_type": "code",
   "execution_count": 51,
   "source": [
    "# 평균과 표준편차 활용하기\n",
    "\n",
    "# 데이터와 열을 전달하면 이상값 정보가 출력되는 outlier() 함수 만들기\n",
    "def outlier(data, column) :\n",
    "    mean = data[column].mean()\n",
    "    std = data[column].std()\n",
    "    lowest = mean - (1.5 * std)\n",
    "    highest = mean + (1.5 * std)\n",
    "    print('최소 경계값 : ', lowest, ', 최대경계값 : ', highest)\n",
    "    outlier_index = data[column][(data[column] < lowest) | (data[column] > highest)].index\n",
    "    return outlier_index\n",
    "\n",
    "print(outlier(X, 'qsec'))\n",
    "\n",
    "# 인덱스 24, 열이 qsec인 값을 42.245로 변경하기\n",
    "X.loc[24, 'qsec'] = 42.245\n",
    "print(X.loc[24, 'qsec'])\n",
    "\n",
    "print(outlier(X, 'carb'))\n",
    "print(X.loc[[29, 30], 'carb'])\n",
    "\n",
    "# 인덱스 29, 30이고, 열은 carb인 값을 5.245로 변경하기\n",
    "X.loc[29, 'carb'] = 5.235\n",
    "X.loc[30, 'carb'] = 5.235\n",
    "print(X.loc[[29, 30], 'carb'])"
   ],
   "outputs": [
    {
     "output_type": "stream",
     "name": "stdout",
     "text": [
      "최소 경계값 :  -2.8043094560577657 , 최대경계값 :  42.39618445605777\n",
      "Int64Index([24], dtype='int64')\n",
      "42.245\n",
      "최소 경계값 :  0.3897000335522218 , 최대경계값 :  5.235299966447778\n",
      "Int64Index([29, 30], dtype='int64')\n",
      "29    6\n",
      "30    8\n",
      "Name: carb, dtype: int64\n",
      "29    5.235\n",
      "30    5.235\n",
      "Name: carb, dtype: float64\n"
     ]
    }
   ],
   "metadata": {}
  },
  {
   "cell_type": "code",
   "execution_count": null,
   "source": [
    "## 데이터 스케일링 | 표준크기변환(평균값=0, 표준편차=1) : StandardScaler\n",
    "from sklearn.preprocessing import StandardScaler\n",
    "\n",
    "# X변수에서 qsec열만 추출한 후, temp 변수에 저장하기\n",
    "temp = X[['qsec']]\n",
    "\n",
    "# StandardScaler 함수 호출하여 표준 크기변환 기능을 갖는 scaler라는 객체 만들기\n",
    "scaler = StandardScaler()\n",
    "\n",
    "# 표준 크기 변환하는 scaler에게 fit_transform 명령으로 temp 크기 변환 요청하기\n",
    "print(scaler.fit_transform(temp))\n",
    "\n",
    "# 표준 크기변환을 수행한 결과를 qsec_s_scaler 변수에 저장하기\n",
    "qsec_s_scaler = pd.DataFrame(scaler.fit_transform(temp))\n",
    "print(qsec_s_scaler.describe())\n",
    "\n",
    "# 크기변환된 결과를 X변수에 저장해서 활용하려면\n",
    "X['qsec'] = pd.DataFrame(scaler.fit_transform(temp))"
   ],
   "outputs": [],
   "metadata": {}
  },
  {
   "cell_type": "code",
   "execution_count": 53,
   "source": [
    "## 데이터 스케일링 | 최소-최대 크기변환(최솟값=0, 최댓값=1) : MinMaxScaler\n",
    "from sklearn.preprocessing import MinMaxScaler\n",
    "\n",
    "# X변수에서 qsec열만 추출한 후, temp 변수에 저장하기\n",
    "temp = X[['qsec']]\n",
    "\n",
    "# MinMaxScaler 함수를 호출하여 최소-최대 크기변환 기능을 갖는 Scaler 객체 만들기\n",
    "scaler = MinMaxScaler()\n",
    "\n",
    "# 최소최대 크기변환 기능이 있는 scaler에게 temp 변수의 크기변환을 요청하고 변환결과는 qsec_m_scaler 변수에 저장하기\n",
    "qsec_m_scaler = pd.DataFrame(scaler.fit_transform(temp))\n",
    "\n",
    "print(qsec_m_scaler)\n",
    "print(qsec_m_scaler.describe())"
   ],
   "outputs": [
    {
     "output_type": "stream",
     "name": "stdout",
     "text": [
      "           0\n",
      "0   0.388184\n",
      "1   0.401471\n",
      "2   0.439198\n",
      "3   0.000000\n",
      "4   0.401471\n",
      "5   0.477399\n",
      "6   0.373473\n",
      "7   0.472179\n",
      "8   0.540989\n",
      "9   0.431842\n",
      "10  0.415233\n",
      "11  0.410488\n",
      "12  0.415233\n",
      "13  0.424724\n",
      "14  0.424250\n",
      "15  0.420453\n",
      "16  0.410962\n",
      "17  0.459604\n",
      "18  0.437063\n",
      "19  0.469807\n",
      "20  0.472417\n",
      "21  0.397912\n",
      "22  0.408115\n",
      "23  0.363270\n",
      "24  1.000000\n",
      "25  0.446079\n",
      "26  0.393878\n",
      "27  0.398624\n",
      "28  0.341678\n",
      "29  0.365405\n",
      "30  0.344050\n",
      "31  0.438961\n",
      "               0\n",
      "count  32.000000\n",
      "mean    0.424513\n",
      "std     0.135055\n",
      "min     0.000000\n",
      "25%     0.396904\n",
      "50%     0.415233\n",
      "75%     0.440918\n",
      "max     1.000000\n"
     ]
    }
   ],
   "metadata": {}
  },
  {
   "cell_type": "code",
   "execution_count": 54,
   "source": [
    "## 데이터 스케일링 | 로버스트 크기변환(중앙값=0, IQR=1) : RobustScaler\n",
    "from sklearn.preprocessing import RobustScaler\n",
    "\n",
    "# X변수에서 qsec열만 추출한 후, temp 변수에 저장하기\n",
    "temp = X[['qsec']]\n",
    "\n",
    "# RobustScaler 함수를 호출하여 로버스트 크기변환 기능을 갖는 scaler 객체 만들기\n",
    "scaler = RobustScaler()\n",
    "qsec_r_scaler = pd.DataFrame(scaler.fit_transform(temp))\n",
    "\n",
    "print(qsec_r_scaler)\n",
    "print(qsec_r_scaler.describe())"
   ],
   "outputs": [
    {
     "output_type": "stream",
     "name": "stdout",
     "text": [
      "            0\n",
      "0   -0.614555\n",
      "1   -0.312668\n",
      "2    0.544474\n",
      "3   -9.433962\n",
      "4   -0.312668\n",
      "5    1.412399\n",
      "6   -0.948787\n",
      "7    1.293801\n",
      "8    2.857143\n",
      "9    0.377358\n",
      "10   0.000000\n",
      "11  -0.107817\n",
      "12   0.000000\n",
      "13   0.215633\n",
      "14   0.204852\n",
      "15   0.118598\n",
      "16  -0.097035\n",
      "17   1.008086\n",
      "18   0.495957\n",
      "19   1.239892\n",
      "20   1.299191\n",
      "21  -0.393531\n",
      "22  -0.161725\n",
      "23  -1.180593\n",
      "24  13.285714\n",
      "25   0.700809\n",
      "26  -0.485175\n",
      "27  -0.377358\n",
      "28  -1.671159\n",
      "29  -1.132075\n",
      "30  -1.617251\n",
      "31   0.539084\n",
      "               0\n",
      "count  32.000000\n",
      "mean    0.210832\n",
      "std     3.068398\n",
      "min    -9.433962\n",
      "25%    -0.416442\n",
      "50%     0.000000\n",
      "75%     0.583558\n",
      "max    13.285714\n"
     ]
    }
   ],
   "metadata": {}
  },
  {
   "cell_type": "code",
   "execution_count": 55,
   "source": [
    "# 데이터 타입 변경하기\n",
    "print(X.info())\n",
    "\n",
    "# gear 열의 데이터 타입을 int64로 변경한 후, 다시 gear열에 저장하기\n",
    "X['gear'] = X['gear'].astype('int64')\n",
    "X['gear'].dtype"
   ],
   "outputs": [
    {
     "output_type": "stream",
     "name": "stdout",
     "text": [
      "<class 'pandas.core.frame.DataFrame'>\n",
      "RangeIndex: 32 entries, 0 to 31\n",
      "Data columns (total 10 columns):\n",
      " #   Column  Non-Null Count  Dtype  \n",
      "---  ------  --------------  -----  \n",
      " 0   cyl     32 non-null     float64\n",
      " 1   disp    32 non-null     float64\n",
      " 2   hp      32 non-null     float64\n",
      " 3   drat    32 non-null     float64\n",
      " 4   wt      32 non-null     float64\n",
      " 5   qsec    32 non-null     float64\n",
      " 6   vs      32 non-null     int64  \n",
      " 7   am      32 non-null     object \n",
      " 8   gear    32 non-null     object \n",
      " 9   carb    32 non-null     float64\n",
      "dtypes: float64(7), int64(1), object(2)\n",
      "memory usage: 2.6+ KB\n",
      "None\n"
     ]
    },
    {
     "output_type": "execute_result",
     "data": {
      "text/plain": [
       "dtype('int64')"
      ]
     },
     "metadata": {},
     "execution_count": 55
    }
   ],
   "metadata": {}
  },
  {
   "cell_type": "code",
   "execution_count": 56,
   "source": [
    "print(X.head())"
   ],
   "outputs": [
    {
     "output_type": "stream",
     "name": "stdout",
     "text": [
      "   cyl   disp     hp  drat     wt      qsec  vs      am  gear  carb\n",
      "0  6.0  160.0  110.0  3.90  2.620 -0.273300   0  manual     4   4.0\n",
      "1  6.0  160.0  110.0  3.90  2.875 -0.173340   0  manual     4   4.0\n",
      "2  4.0  108.0   93.0  3.85  2.320  0.110475   1  manual     4   1.0\n",
      "3  6.0  258.0  110.0  3.08  3.215 -3.193563   1    auto     3   1.0\n",
      "4  8.0  360.0  175.0  3.15  3.440 -0.173340   0    auto     3   2.0\n"
     ]
    }
   ],
   "metadata": {}
  },
  {
   "cell_type": "code",
   "execution_count": 57,
   "source": [
    "# import pandas as pd\n",
    "# data = pd.read_csv('/Users/dabeen/Desktop/DA_01/bigData-main/mtcars.csv')\n",
    "\n",
    "# X = data.drop(columns='mpg')\n",
    "# X = X.drop(columns='Unnamed: 0')\n",
    "\n",
    "# X_cyl_mean = X['cyl'].mean()\n",
    "# X['cyl'] = X['cyl'].fillna(X_cyl_mean)\n",
    "# X_qsec_median = X['qsec'].median()\n",
    "# X['qsec'] = X['qsec'].fillna(X_qsec_median)\n",
    "\n",
    "## Data Encoding | One Hot Encoding\n",
    "# am 열에서 중복 제거한 값들을 확인하기\n",
    "print(X['am'].unique())\n",
    "\n",
    "# X변수의 am열에 대해서 원핫 인코딩 수행하기\n",
    "print(pd.get_dummies(X['am']))\n",
    "\n",
    "# X변수의 am열에 대해서 원핫 인코딩 수행하기. 단, 생성된 첫 번째 열은 삭제하기\n",
    "print(pd.get_dummies(X['am'], drop_first=True))\n",
    "\n",
    "# X 변수의 데이터 타입 확인하기\n",
    "print(X.info())\n",
    "\n",
    "# X변수의 전체열을 대상으로 원핫 인코딩 수행하기\n",
    "print(pd.get_dummies(X, drop_first=True))\n",
    "\n",
    "## Data Encoding | Label Encoding\n",
    "from sklearn.preprocessing import LabelEncoder\n",
    "\n",
    "encoder = LabelEncoder()\n",
    "\n",
    "# encoder를 통해 am열 값에 대해 라벨 인코딩 수행하기\n",
    "print(encoder.fit_transform(X['am']))\n",
    "\n",
    "# 범주형 데이터 LabelEncoder 테스트 해보기\n",
    "fruit = ['apple', 'banana', 'grape']\n",
    "encoder = LabelEncoder()\n",
    "fruit_new = encoder.fit_transform(fruit)\n",
    "print(fruit_new)\n",
    "\n",
    "## Data Encoding | 수동 Encoding -> replace로 하나하나...(말잇못)"
   ],
   "outputs": [
    {
     "output_type": "stream",
     "name": "stdout",
     "text": [
      "['manual' 'auto']\n",
      "    auto  manual\n",
      "0      0       1\n",
      "1      0       1\n",
      "2      0       1\n",
      "3      1       0\n",
      "4      1       0\n",
      "5      1       0\n",
      "6      1       0\n",
      "7      1       0\n",
      "8      1       0\n",
      "9      1       0\n",
      "10     1       0\n",
      "11     1       0\n",
      "12     1       0\n",
      "13     1       0\n",
      "14     1       0\n",
      "15     1       0\n",
      "16     1       0\n",
      "17     0       1\n",
      "18     0       1\n",
      "19     0       1\n",
      "20     1       0\n",
      "21     1       0\n",
      "22     1       0\n",
      "23     1       0\n",
      "24     1       0\n",
      "25     0       1\n",
      "26     0       1\n",
      "27     0       1\n",
      "28     0       1\n",
      "29     0       1\n",
      "30     0       1\n",
      "31     0       1\n",
      "    manual\n",
      "0        1\n",
      "1        1\n",
      "2        1\n",
      "3        0\n",
      "4        0\n",
      "5        0\n",
      "6        0\n",
      "7        0\n",
      "8        0\n",
      "9        0\n",
      "10       0\n",
      "11       0\n",
      "12       0\n",
      "13       0\n",
      "14       0\n",
      "15       0\n",
      "16       0\n",
      "17       1\n",
      "18       1\n",
      "19       1\n",
      "20       0\n",
      "21       0\n",
      "22       0\n",
      "23       0\n",
      "24       0\n",
      "25       1\n",
      "26       1\n",
      "27       1\n",
      "28       1\n",
      "29       1\n",
      "30       1\n",
      "31       1\n",
      "<class 'pandas.core.frame.DataFrame'>\n",
      "RangeIndex: 32 entries, 0 to 31\n",
      "Data columns (total 10 columns):\n",
      " #   Column  Non-Null Count  Dtype  \n",
      "---  ------  --------------  -----  \n",
      " 0   cyl     32 non-null     float64\n",
      " 1   disp    32 non-null     float64\n",
      " 2   hp      32 non-null     float64\n",
      " 3   drat    32 non-null     float64\n",
      " 4   wt      32 non-null     float64\n",
      " 5   qsec    32 non-null     float64\n",
      " 6   vs      32 non-null     int64  \n",
      " 7   am      32 non-null     object \n",
      " 8   gear    32 non-null     int64  \n",
      " 9   carb    32 non-null     float64\n",
      "dtypes: float64(7), int64(2), object(1)\n",
      "memory usage: 2.6+ KB\n",
      "None\n",
      "     cyl   disp      hp  drat     wt      qsec  vs  gear   carb  am_manual\n",
      "0    6.0  160.0  110.00  3.90  2.620 -0.273300   0     4  4.000          1\n",
      "1    6.0  160.0  110.00  3.90  2.875 -0.173340   0     4  4.000          1\n",
      "2    4.0  108.0   93.00  3.85  2.320  0.110475   1     4  1.000          1\n",
      "3    6.0  258.0  110.00  3.08  3.215 -3.193563   1     3  1.000          0\n",
      "4    8.0  360.0  175.00  3.15  3.440 -0.173340   0     3  2.000          0\n",
      "5    6.0  225.0  105.00  2.76  3.460  0.397860   1     3  1.000          0\n",
      "6    8.0  360.0  245.00  3.21  3.570 -0.383971   0     3  4.000          0\n",
      "7    7.6  146.7   62.00  3.69  3.190  0.358590   1     4  2.000          0\n",
      "8    4.0  140.8   95.00  3.92  3.150  0.876241   1     4  2.000          0\n",
      "9    6.0  167.6  123.00  3.92  3.440  0.055140   1     4  4.000          0\n",
      "10   6.0  167.6  123.00  3.92  3.440 -0.069810   1     4  4.000          0\n",
      "11   8.0  275.8  180.00  3.07  4.070 -0.105510   0     3  3.000          0\n",
      "12   8.0  275.8  180.00  3.07  3.730 -0.069810   0     3  3.000          0\n",
      "13   8.0  275.8  180.00  3.07  3.780  0.001590   0     3  3.000          0\n",
      "14  14.0  472.0  205.00  2.93  5.250 -0.001980   0     3  4.000          0\n",
      "15   8.0  460.0  215.00  3.00  5.424 -0.030540   0     3  4.000          0\n",
      "16   8.0  440.0  230.00  3.23  5.345 -0.101940   0     3  4.000          0\n",
      "17   4.0   78.7   66.00  4.08  2.200  0.263985   1     4  1.000          1\n",
      "18   4.0   75.7   52.00  4.93  1.615  0.094410   1     4  2.000          1\n",
      "19   4.0   71.1   65.00  4.22  1.835  0.340740   1     4  1.000          1\n",
      "20   4.0  120.1   97.00  3.70  2.465  0.360375   1     3  1.000          0\n",
      "21   8.0  318.0  150.00  2.76  3.520 -0.200115   0     3  2.000          0\n",
      "22   8.0  304.0  150.00  3.15  3.435 -0.123360   0     3  2.000          0\n",
      "23   8.0  350.0  245.00  3.73  3.840 -0.460726   0     3  4.000          0\n",
      "24   7.6  400.0  175.00  3.08  3.845  4.329326   0     3  2.000          0\n",
      "25   4.0   79.0   66.00  4.08  1.935  0.162240   1     4  1.000          1\n",
      "26   4.0  120.3   91.00  4.43  2.140 -0.230460   0     5  2.000          1\n",
      "27   4.0   95.1  113.00  3.77  1.513 -0.194760   1     5  2.000          1\n",
      "28   8.0  351.0  264.00  4.22  3.170 -0.623161   0     5  4.000          1\n",
      "29   6.0  145.0  175.00  3.62  2.770 -0.444661   0     5  5.235          1\n",
      "30   8.0  301.0  305.25  3.54  3.570 -0.605311   0     5  5.235          1\n",
      "31   4.0  121.0  109.00  4.11  2.780  0.108690   1     4  2.000          1\n",
      "[1 1 1 0 0 0 0 0 0 0 0 0 0 0 0 0 0 1 1 1 0 0 0 0 0 1 1 1 1 1 1 1]\n",
      "[0 1 2]\n"
     ]
    }
   ],
   "metadata": {}
  },
  {
   "cell_type": "code",
   "execution_count": 58,
   "source": [
    "## 파생변수 만들기\n",
    "# wt 열이 3.3보다 작은지 여부를 확인하기\n",
    "print(X['wt'] < 3.3)\n",
    "\n",
    "# wt 열이 3.3보다 작은지 여부의 결과는 condition 변수에 저장하기\n",
    "condition = X['wt'] < 3.3\n",
    "\n",
    "# X 변수가 condition 조건을 만족하면, wt_class 열에 0으로 저장하기\n",
    "X.loc[condition, 'wt_class'] = 0\n",
    "\n",
    "# X 변수가 condition 조건을 만족하지 않으면, wt_class 열에 1으로 저장하기\n",
    "X.loc[~condition, 'wt_class'] = 1\n",
    "\n",
    "print(X[['wt', 'wt_class']])\n",
    "\n",
    "# X변수에서 wt열을 삭제한 후, 삭제 결과를 X 변수에 다시 저장하기\n",
    "X = X.drop(columns=['wt'])\n",
    "print(X.head())"
   ],
   "outputs": [
    {
     "output_type": "stream",
     "name": "stdout",
     "text": [
      "0      True\n",
      "1      True\n",
      "2      True\n",
      "3      True\n",
      "4     False\n",
      "5     False\n",
      "6     False\n",
      "7      True\n",
      "8      True\n",
      "9     False\n",
      "10    False\n",
      "11    False\n",
      "12    False\n",
      "13    False\n",
      "14    False\n",
      "15    False\n",
      "16    False\n",
      "17     True\n",
      "18     True\n",
      "19     True\n",
      "20     True\n",
      "21    False\n",
      "22    False\n",
      "23    False\n",
      "24    False\n",
      "25     True\n",
      "26     True\n",
      "27     True\n",
      "28     True\n",
      "29     True\n",
      "30    False\n",
      "31     True\n",
      "Name: wt, dtype: bool\n",
      "       wt  wt_class\n",
      "0   2.620       0.0\n",
      "1   2.875       0.0\n",
      "2   2.320       0.0\n",
      "3   3.215       0.0\n",
      "4   3.440       1.0\n",
      "5   3.460       1.0\n",
      "6   3.570       1.0\n",
      "7   3.190       0.0\n",
      "8   3.150       0.0\n",
      "9   3.440       1.0\n",
      "10  3.440       1.0\n",
      "11  4.070       1.0\n",
      "12  3.730       1.0\n",
      "13  3.780       1.0\n",
      "14  5.250       1.0\n",
      "15  5.424       1.0\n",
      "16  5.345       1.0\n",
      "17  2.200       0.0\n",
      "18  1.615       0.0\n",
      "19  1.835       0.0\n",
      "20  2.465       0.0\n",
      "21  3.520       1.0\n",
      "22  3.435       1.0\n",
      "23  3.840       1.0\n",
      "24  3.845       1.0\n",
      "25  1.935       0.0\n",
      "26  2.140       0.0\n",
      "27  1.513       0.0\n",
      "28  3.170       0.0\n",
      "29  2.770       0.0\n",
      "30  3.570       1.0\n",
      "31  2.780       0.0\n",
      "   cyl   disp     hp  drat      qsec  vs      am  gear  carb  wt_class\n",
      "0  6.0  160.0  110.0  3.90 -0.273300   0  manual     4   4.0       0.0\n",
      "1  6.0  160.0  110.0  3.90 -0.173340   0  manual     4   4.0       0.0\n",
      "2  4.0  108.0   93.0  3.85  0.110475   1  manual     4   1.0       0.0\n",
      "3  6.0  258.0  110.0  3.08 -3.193563   1    auto     3   1.0       0.0\n",
      "4  8.0  360.0  175.0  3.15 -0.173340   0    auto     3   2.0       1.0\n"
     ]
    }
   ],
   "metadata": {}
  },
  {
   "cell_type": "code",
   "execution_count": 72,
   "source": [
    "import pandas as pd\n",
    "data = pd.read_csv('/Users/dabeen/Desktop/DA_01/bigData-main/mtcars.csv')\n",
    "\n",
    "X = data.drop(columns='mpg')\n",
    "Y = data['mpg']\n",
    "\n",
    "X = X.drop(columns='Unnamed: 0')\n",
    "\n",
    "X_cyl_mean = X['cyl'].mean()\n",
    "X['cyl'] = X['cyl'].fillna(X_cyl_mean)\n",
    "X_qsec_median = X['qsec'].median()\n",
    "X['qsec'] = X['qsec'].fillna(X_qsec_median)\n",
    "\n",
    "# qsec 열에 4를 곱한 결과를 qsec_4 열에 저장하기\n",
    "X['qsec_4'] = X['qsec'] * 4\n",
    "\n",
    "X = X.drop(columns=['qsec'])\n",
    "print(X.head())"
   ],
   "outputs": [
    {
     "output_type": "stream",
     "name": "stdout",
     "text": [
      "   cyl   disp   hp  drat     wt  vs      am gear  carb  qsec_4\n",
      "0  6.0  160.0  110  3.90  2.620   0  manual    4     4   65.84\n",
      "1  6.0  160.0  110  3.90  2.875   0  manual    4     4   68.08\n",
      "2  4.0  108.0   93  3.85  2.320   1  manual    4     1   74.44\n",
      "3  6.0  258.0  110  3.08  3.215   1    auto    3     1    0.40\n",
      "4  8.0  360.0  175  3.15  3.440   0    auto    3     2   68.08\n"
     ]
    }
   ],
   "metadata": {}
  },
  {
   "cell_type": "code",
   "execution_count": 73,
   "source": [
    "from sklearn.preprocessing import LabelEncoder\n",
    "\n",
    "encoder = LabelEncoder()\n",
    "\n",
    "X['am_new'] = encoder.fit_transform(X['am'])\n",
    "X = X.drop(columns=['am'])\n",
    "\n",
    "X['gear'] = X['gear'].replace('*3','3').replace('*5','5')\n",
    "\n",
    "print(X)\n"
   ],
   "outputs": [
    {
     "output_type": "stream",
     "name": "stdout",
     "text": [
      "     cyl   disp   hp  drat     wt  vs gear  carb  qsec_4  am_new\n",
      "0    6.0  160.0  110  3.90  2.620   0    4     4   65.84       1\n",
      "1    6.0  160.0  110  3.90  2.875   0    4     4   68.08       1\n",
      "2    4.0  108.0   93  3.85  2.320   1    4     1   74.44       1\n",
      "3    6.0  258.0  110  3.08  3.215   1    3     1    0.40       0\n",
      "4    8.0  360.0  175  3.15  3.440   0    3     2   68.08       0\n",
      "5    6.0  225.0  105  2.76  3.460   1    3     1   80.88       0\n",
      "6    8.0  360.0  245  3.21  3.570   0    3     4   63.36       0\n",
      "7    7.6  146.7   62  3.69  3.190   1    4     2   80.00       0\n",
      "8    4.0  140.8   95  3.92  3.150   1    4     2   91.60       0\n",
      "9    6.0  167.6  123  3.92  3.440   1    4     4   73.20       0\n",
      "10   6.0  167.6  123  3.92  3.440   1    4     4   70.40       0\n",
      "11   8.0  275.8  180  3.07  4.070   0    3     3   69.60       0\n",
      "12   8.0  275.8  180  3.07  3.730   0    3     3   70.40       0\n",
      "13   8.0  275.8  180  3.07  3.780   0    3     3   72.00       0\n",
      "14  50.0  472.0  205  2.93  5.250   0    3     4   71.92       0\n",
      "15   8.0  460.0  215  3.00  5.424   0    3     4   71.28       0\n",
      "16   8.0  440.0  230  3.23  5.345   0    3     4   69.68       0\n",
      "17   4.0   78.7   66  4.08  2.200   1    4     1   77.88       1\n",
      "18   4.0   75.7   52  4.93  1.615   1    4     2   74.08       1\n",
      "19   4.0   71.1   65  4.22  1.835   1    4     1   79.60       1\n",
      "20   4.0  120.1   97  3.70  2.465   1    3     1   80.04       0\n",
      "21   8.0  318.0  150  2.76  3.520   0    3     2   67.48       0\n",
      "22   8.0  304.0  150  3.15  3.435   0    3     2   69.20       0\n",
      "23   8.0  350.0  245  3.73  3.840   0    3     4   61.64       0\n",
      "24   7.6  400.0  175  3.08  3.845   0    3     2  400.00       0\n",
      "25   4.0   79.0   66  4.08  1.935   1    4     1   75.60       1\n",
      "26   4.0  120.3   91  4.43  2.140   0    5     2   66.80       1\n",
      "27   4.0   95.1  113  3.77  1.513   1    5     2   67.60       1\n",
      "28   8.0  351.0  264  4.22  3.170   0    5     4   58.00       1\n",
      "29   6.0  145.0  175  3.62  2.770   0    5     6   62.00       1\n",
      "30   8.0  301.0  335  3.54  3.570   0    5     8   58.40       1\n",
      "31   4.0  121.0  109  4.11  2.780   1    4     2   74.40       1\n"
     ]
    }
   ],
   "metadata": {}
  },
  {
   "cell_type": "code",
   "execution_count": 74,
   "source": [
    "import pandas as pd\n",
    "from sklearn.preprocessing import LabelEncoder\n",
    "\n",
    "data = pd.read_csv('/Users/dabeen/Desktop/DA_01/bigData-main/mtcars.csv')\n",
    "\n",
    "X = data.drop(columns='mpg')\n",
    "Y = data['mpg']\n",
    "\n",
    "X = X.drop(columns='Unnamed: 0')\n",
    "\n",
    "X_cyl_mean = X['cyl'].mean()\n",
    "X['cyl'] = X['cyl'].fillna(X_cyl_mean)\n",
    "X_qsec_median = X['qsec'].median()\n",
    "X['qsec'] = X['qsec'].fillna(X_qsec_median)\n",
    "\n",
    "encoder = LabelEncoder()\n",
    "\n",
    "X['am_new'] = encoder.fit_transform(X['am'])\n",
    "X = X.drop(columns=['am'])\n",
    "\n",
    "X['gear'] = X['gear'].replace('*3','3').replace('*5','5')\n",
    "\n",
    "# X 변수에서 인덱스 14이고 열이 cyl인 값을 14로 변경하기\n",
    "X.loc[14, 'cyl'] = 14\n",
    "X.loc[14, 'cyl']\n",
    "\n",
    "# X변수에서 인덱스 30이고 열이 hp인 값을 305.25로 변경하기\n",
    "X.loc[30, 'hp'] = 305.25\n",
    "X.loc[30, 'hp']\n",
    "\n",
    "# 인덱스 24, 열이 qsec인 값을 42.245로 변경하기\n",
    "X.loc[24, 'qsec'] = 42.245\n",
    "\n",
    "# 인덱스 29, 30이고, 열은 carb인 값을 5.245로 변경하기\n",
    "X.loc[29, 'carb'] = 5.235\n",
    "X.loc[30, 'carb'] = 5.235\n",
    "\n",
    "# gear 열의 데이터 타입을 int64로 변경한 후, 다시 gear열에 저장하기\n",
    "X['gear'] = X['gear'].astype('int64')\n",
    "\n",
    "# wt 열이 3.3보다 작은지 여부의 결과는 condition 변수에 저장하기\n",
    "condition = X['wt'] < 3.3\n",
    "\n",
    "# X 변수가 condition 조건을 만족하면, wt_class 열에 0으로 저장하기\n",
    "X.loc[condition, 'wt_class'] = 0\n",
    "\n",
    "# X 변수가 condition 조건을 만족하지 않으면, wt_class 열에 1으로 저장하기\n",
    "X.loc[~condition, 'wt_class'] = 1\n",
    "\n",
    "# X변수에서 wt열을 삭제한 후, 삭제 결과를 X 변수에 다시 저장하기\n",
    "X = X.drop(columns=['wt'])\n",
    "\n",
    "# qsec 열에 4를 곱한 결과를 qsec_4 열에 저장하기\n",
    "X['qsec_4'] = X['qsec'] * 4\n",
    "\n",
    "X = X.drop(columns=['qsec'])\n",
    "\n",
    "\n",
    "\n",
    "print(X.shape)\n",
    "print(Y.shape)"
   ],
   "outputs": [
    {
     "output_type": "stream",
     "name": "stdout",
     "text": [
      "(32, 10)\n",
      "(32,)\n"
     ]
    }
   ],
   "metadata": {}
  },
  {
   "cell_type": "code",
   "execution_count": 75,
   "source": [
    "## 데이터 분리하기 | train_test_split\n",
    "from sklearn.model_selection import train_test_split\n",
    "x_train, x_test, y_train, y_test = train_test_split(X, Y, test_size=0.3, random_state=10)\n",
    "print(x_train.shape)\n",
    "print(y_train.shape)\n",
    "print(x_test.shape)\n",
    "print(y_test.shape)"
   ],
   "outputs": [
    {
     "output_type": "stream",
     "name": "stdout",
     "text": [
      "(22, 10)\n",
      "(22,)\n",
      "(10, 10)\n",
      "(10,)\n"
     ]
    }
   ],
   "metadata": {}
  },
  {
   "cell_type": "code",
   "execution_count": 76,
   "source": [
    "## 예측 모델링 수행 | LinearRegression\n",
    "from sklearn.linear_model import LinearRegression\n",
    "\n",
    "model = LinearRegression()\n",
    "model.fit(x_train, y_train)\n",
    "\n",
    "y_train_predicted = model.predict(x_train)\n",
    "y_test_predicted = model.predict(x_test)\n",
    "\n",
    "# 선형회귀 모델로 도출된 y절편 구하기\n",
    "print(model.intercept_)\n",
    "\n",
    "print('-' * 30)\n",
    "\n",
    "# 선형회귀 모델에 포함된 독립변수들의 각 기울기 값 구하기\n",
    "print(model.coef_)\n",
    "\n",
    "print('-' * 30)\n",
    "\n",
    "# 선형회귀 분석 model에서 학습 데이터에 대한 결정계수 구하기\n",
    "print(model.score(x_train, y_train))\n",
    "# 선형회귀 분석 model에서 xptmxm 데이터에 대한 결정계수 구하기\n",
    "print(model.score(x_test, y_test))\n"
   ],
   "outputs": [
    {
     "output_type": "stream",
     "name": "stdout",
     "text": [
      "20.680828665222425\n",
      "------------------------------\n",
      "[-0.13817819 -0.01231325 -0.00409076  0.96656685  1.12173056  0.65741573\n",
      " -1.9744834   3.58098353  0.02124373  0.02402967]\n",
      "------------------------------\n",
      "0.9063023662021511\n",
      "0.10162785154970821\n"
     ]
    }
   ],
   "metadata": {}
  },
  {
   "cell_type": "code",
   "execution_count": 77,
   "source": [
    "# 결정계수를 계산하는 r2_score 함수 가져오기\n",
    "from sklearn.metrics import r2_score\n",
    "# MAE를 계산하는 mean_absolute_error 함수 가져오기\n",
    "from sklearn.metrics import mean_absolute_error\n",
    "# MSE를 계산하는 mean_squared_error 함수 가져오기\n",
    "from sklearn.metrics import mean_squared_error\n",
    "# 제곱근 계산을 위한 numpy 라이브러리 가져오기\n",
    "import numpy as np\n",
    "\n",
    "# 학습데이터의 결정계수 구하기\n",
    "print(r2_score(y_train, y_train_predicted))\n",
    "\n",
    "# 테스트데이터의 결정계수 구하기\n",
    "print(r2_score(y_test, y_test_predicted))\n",
    "\n",
    "# 테스트데이터의 MSE지표 구하기\n",
    "print(mean_squared_error(y_test, y_test_predicted))\n",
    "\n",
    "# 테스트데이터의 RMSE지표 구하기\n",
    "print(np.sqrt(mean_squared_error(y_test, y_test_predicted)))\n",
    "\n",
    "# 테스트데이터의 MAE지표 구하기\n",
    "print(mean_absolute_error(y_test, y_test_predicted))"
   ],
   "outputs": [
    {
     "output_type": "stream",
     "name": "stdout",
     "text": [
      "0.9063023662021511\n",
      "0.10162785154970821\n",
      "8.924428922705198\n",
      "2.987378269102391\n",
      "2.3752487909100055\n"
     ]
    }
   ],
   "metadata": {}
  },
  {
   "cell_type": "code",
   "execution_count": 78,
   "source": [
    "## 예측 모델링 수행 | RandomForestRegressor\n",
    "from sklearn.ensemble import RandomForestRegressor\n",
    "\n",
    "model = RandomForestRegressor(random_state=10)\n",
    "model.fit(x_train, y_train)\n",
    "\n",
    "y_train_predicted = model.predict(x_train)\n",
    "y_test_predicted = model.predict(x_test)\n"
   ],
   "outputs": [],
   "metadata": {}
  },
  {
   "cell_type": "code",
   "execution_count": 79,
   "source": [
    "from sklearn.metrics import r2_score, mean_absolute_error, mean_squared_error\n",
    "import numpy as np\n",
    "\n",
    "# 학습데이터의 결정계수 구하기\n",
    "print(r2_score(y_train, y_train_predicted))\n",
    "\n",
    "# 테스트데이터의 결정계수 구하기\n",
    "print(r2_score(y_test, y_test_predicted))\n",
    "\n",
    "# 테스트데이터의 MSE지표 구하기\n",
    "print(mean_squared_error(y_test, y_test_predicted))\n",
    "\n",
    "# 테스트데이터의 MAE지표 구하기\n",
    "print(mean_absolute_error(y_test, y_test_predicted))"
   ],
   "outputs": [
    {
     "output_type": "stream",
     "name": "stdout",
     "text": [
      "0.9805091375421945\n",
      "0.35375562713911035\n",
      "6.419791600000077\n",
      "1.8528000000000113\n"
     ]
    }
   ],
   "metadata": {}
  },
  {
   "cell_type": "code",
   "execution_count": 80,
   "source": [
    "model = RandomForestRegressor(n_estimators=1000, criterion='mae', random_state=10)\n",
    "model.fit(x_train, y_train)\n",
    "\n",
    "y_train_predicted = model.predict(x_train)\n",
    "y_test_predicted = model.predict(x_test)\n",
    "\n",
    "print(r2_score(y_train, y_train_predicted))\n",
    "print(r2_score(y_test, y_test_predicted))\n",
    "print(mean_squared_error(y_test, y_test_predicted))\n",
    "print(mean_absolute_error(y_test, y_test_predicted))"
   ],
   "outputs": [
    {
     "output_type": "stream",
     "name": "stdout",
     "text": [
      "0.9805129830240367\n",
      "0.4484556019730116\n",
      "5.479042050000102\n",
      "1.7384000000000377\n"
     ]
    }
   ],
   "metadata": {}
  },
  {
   "cell_type": "code",
   "execution_count": 81,
   "source": [
    "## 예측 모델링 수행 | GradientBoostingRegressor\n",
    "from sklearn.ensemble import GradientBoostingRegressor\n",
    "\n",
    "model = GradientBoostingRegressor(random_state=10)\n",
    "model.fit(x_train, y_train)\n",
    "\n",
    "y_train_predicted = model.predict(x_train)\n",
    "y_test_predicted = model.predict(x_test)\n",
    "\n",
    "print(r2_score(y_train, y_train_predicted))\n",
    "print(r2_score(y_test, y_test_predicted))\n",
    "print(mean_squared_error(y_test, y_test_predicted))\n",
    "print(mean_absolute_error(y_test, y_test_predicted))"
   ],
   "outputs": [
    {
     "output_type": "stream",
     "name": "stdout",
     "text": [
      "0.9999908554215274\n",
      "0.15587820030463517\n",
      "8.385505958173754\n",
      "2.17548877732825\n"
     ]
    }
   ],
   "metadata": {}
  },
  {
   "cell_type": "code",
   "execution_count": 82,
   "source": [
    "## 예측 모델링 수행 | XGBRegressor\n",
    "from xgboost import XGBRegressor\n",
    "\n",
    "model = XGBRegressor(random_state=10)\n",
    "model.fit(x_train, y_train)\n",
    "\n",
    "y_train_predicted = model.predict(x_train)\n",
    "y_test_predicted = model.predict(x_test)\n",
    "\n",
    "print(r2_score(y_train, y_train_predicted))\n",
    "print(r2_score(y_test, y_test_predicted))\n",
    "print(mean_squared_error(y_test, y_test_predicted))\n",
    "print(mean_absolute_error(y_test, y_test_predicted))"
   ],
   "outputs": [
    {
     "output_type": "stream",
     "name": "stdout",
     "text": [
      "0.99999998477324\n",
      "0.29171552932917066\n",
      "7.036097931644018\n",
      "2.1146967697143553\n"
     ]
    }
   ],
   "metadata": {}
  },
  {
   "cell_type": "code",
   "execution_count": 86,
   "source": [
    "x_train.columns"
   ],
   "outputs": [
    {
     "output_type": "execute_result",
     "data": {
      "text/plain": [
       "Index(['cyl', 'disp', 'hp', 'drat', 'vs', 'gear', 'carb', 'am_new', 'wt_class',\n",
       "       'qsec_4'],\n",
       "      dtype='object')"
      ]
     },
     "metadata": {},
     "execution_count": 86
    }
   ],
   "metadata": {}
  },
  {
   "cell_type": "code",
   "execution_count": null,
   "source": [
    "## 분류 모델링 수행 | Basic\n",
    "# x_train 변수에서 종속변수인 am_new 열은 삭제한 후, 결과는 x_train2 변수에 저장하기\n",
    "x_train2 = x_train.drop(columns=['am_new'])\n",
    "\n",
    "# x_train 변수에서 am_new 열을 추출한 후, 종속변수인 y_train2 변수에 저장하기\n",
    "y_train2 = x_train['am_new']\n",
    "\n",
    "# x_test 변수에서 종속변수인 am_new 열은 삭제한 후, 결과는 x_test2 변수에 저장하기\n",
    "x_test2 = x_test.drop(columns=['am_new'])\n",
    "\n",
    "# x_test 변수에서 am_new 열을 추출한 후, 종속변수인 y_test2 변수에 저장하기\n",
    "y_test2 = x_test['am_new']"
   ],
   "outputs": [],
   "metadata": {}
  },
  {
   "cell_type": "code",
   "execution_count": 91,
   "source": [
    "## 분류 모델링 수행 | DecisionTreeClassifier\n",
    "from sklearn.tree import DecisionTreeClassifier\n",
    "from sklearn.metrics import roc_auc_score, accuracy_score, precision_score, recall_score\n",
    "\n",
    "model = DecisionTreeClassifier()\n",
    "model.fit(x_train2, y_train2)\n",
    "\n",
    "y_test2_predicted = model.predict(x_test2)\n",
    "\n",
    "print(roc_auc_score(y_test2, y_test2_predicted))\n",
    "print(accuracy_score(y_test2, y_test2_predicted))\n",
    "print(precision_score(y_test2, y_test2_predicted))\n",
    "print(recall_score(y_test2, y_test2_predicted))"
   ],
   "outputs": [
    {
     "output_type": "stream",
     "name": "stdout",
     "text": [
      "0.8571428571428572\n",
      "0.8\n",
      "0.6\n",
      "1.0\n"
     ]
    }
   ],
   "metadata": {}
  },
  {
   "cell_type": "code",
   "execution_count": 93,
   "source": [
    "## 분류 모델링 수행 | RandomForestClassifier\n",
    "from sklearn.ensemble import RandomForestClassifier\n",
    "from sklearn.metrics import roc_auc_score\n",
    "\n",
    "model = RandomForestClassifier()\n",
    "model.fit(x_train2, y_train2)\n",
    "\n",
    "y_test2_predicted = model.predict(x_test2)\n",
    "\n",
    "print(roc_auc_score(y_test2, y_test2_predicted))"
   ],
   "outputs": [
    {
     "output_type": "stream",
     "name": "stdout",
     "text": [
      "0.8571428571428572\n"
     ]
    }
   ],
   "metadata": {}
  },
  {
   "cell_type": "code",
   "execution_count": 94,
   "source": [
    "## 분류 모델링 수행 | LogisticRegression\n",
    "from sklearn.linear_model import LogisticRegression\n",
    "from sklearn.metrics import roc_auc_score\n",
    "\n",
    "model = LogisticRegression()\n",
    "model.fit(x_train2, y_train2)\n",
    "\n",
    "y_test2_predicted = model.predict(x_test2)\n",
    "\n",
    "print(roc_auc_score(y_test2, y_test2_predicted))"
   ],
   "outputs": [
    {
     "output_type": "stream",
     "name": "stdout",
     "text": [
      "0.7619047619047619\n"
     ]
    },
    {
     "output_type": "stream",
     "name": "stderr",
     "text": [
      "/Users/dabeen/opt/anaconda3/lib/python3.8/site-packages/sklearn/linear_model/_logistic.py:763: ConvergenceWarning: lbfgs failed to converge (status=1):\n",
      "STOP: TOTAL NO. of ITERATIONS REACHED LIMIT.\n",
      "\n",
      "Increase the number of iterations (max_iter) or scale the data as shown in:\n",
      "    https://scikit-learn.org/stable/modules/preprocessing.html\n",
      "Please also refer to the documentation for alternative solver options:\n",
      "    https://scikit-learn.org/stable/modules/linear_model.html#logistic-regression\n",
      "  n_iter_i = _check_optimize_result(\n"
     ]
    }
   ],
   "metadata": {}
  },
  {
   "cell_type": "code",
   "execution_count": 103,
   "source": [
    "## 분류 모델링 수행 | XGBClassifier\n",
    "from xgboost import XGBClassifier\n",
    "from sklearn.metrics import roc_auc_score\n",
    "\n",
    "model = XGBClassifier()\n",
    "model.fit(x_train2, y_train2)\n",
    "\n",
    "y_test2_predicted = model.predict(x_test2)\n",
    "y_test2_proba = model.predict_proba(x_test2)\n",
    "\n",
    "print(y_test2_predicted)\n",
    "print(y_test2_proba)\n",
    "print(roc_auc_score(y_test2, y_test2_predicted))"
   ],
   "outputs": [
    {
     "output_type": "stream",
     "name": "stdout",
     "text": [
      "[19:49:32] WARNING: /opt/concourse/worker/volumes/live/7a2b9f41-3287-451b-6691-43e9a6c0910f/volume/xgboost-split_1619728204606/work/src/learner.cc:1061: Starting in XGBoost 1.3.0, the default evaluation metric used with the objective 'binary:logistic' was changed from 'error' to 'logloss'. Explicitly set eval_metric if you'd like to restore the old behavior.\n",
      "[1 1 0 1 0 0 0 0 0 1]\n",
      "[[0.47477525 0.52522475]\n",
      " [0.32114005 0.67885995]\n",
      " [0.96008617 0.03991384]\n",
      " [0.12209648 0.8779035 ]\n",
      " [0.89076257 0.10923745]\n",
      " [0.89076257 0.10923745]\n",
      " [0.96008617 0.03991384]\n",
      " [0.6196928  0.38030717]\n",
      " [0.96008617 0.03991384]\n",
      " [0.11884916 0.88115084]]\n",
      "0.6904761904761905\n"
     ]
    },
    {
     "output_type": "stream",
     "name": "stderr",
     "text": [
      "/Users/dabeen/opt/anaconda3/lib/python3.8/site-packages/xgboost/sklearn.py:888: UserWarning: The use of label encoder in XGBClassifier is deprecated and will be removed in a future release. To remove this warning, do the following: 1) Pass option use_label_encoder=False when constructing XGBClassifier object; and 2) Encode your labels (y) as integers starting with 0, i.e. 0, 1, 2, ..., [num_class - 1].\n",
      "  warnings.warn(label_encoder_deprecation_msg, UserWarning)\n"
     ]
    }
   ],
   "metadata": {}
  },
  {
   "cell_type": "code",
   "execution_count": 98,
   "source": [
    "## 분류 모델링 수행 | SVC (Support Vector Classification)\n",
    "from sklearn.svm import SVC\n",
    "from sklearn.metrics import roc_auc_score\n",
    "\n",
    "model = SVC()\n",
    "model.fit(x_train2, y_train2)\n",
    "y_test2_predicted = model.predict(x_test2)\n",
    "\n",
    "print(roc_auc_score(y_test2, y_test2_predicted))"
   ],
   "outputs": [
    {
     "output_type": "stream",
     "name": "stdout",
     "text": [
      "0.6904761904761905\n"
     ]
    }
   ],
   "metadata": {}
  },
  {
   "cell_type": "code",
   "execution_count": 99,
   "source": [
    "## 분류 모델링 수행 | BaggingClassifier\n",
    "from sklearn.ensemble import BaggingClassifier\n",
    "from sklearn.metrics import roc_auc_score\n",
    "\n",
    "model = BaggingClassifier()\n",
    "model.fit(x_train2, y_train2)\n",
    "y_test2_predicted = model.predict(x_test2)\n",
    "\n",
    "print(roc_auc_score(y_test2, y_test2_predicted))"
   ],
   "outputs": [
    {
     "output_type": "stream",
     "name": "stdout",
     "text": [
      "0.8571428571428572\n"
     ]
    }
   ],
   "metadata": {}
  },
  {
   "cell_type": "code",
   "execution_count": 101,
   "source": [
    "## 분류 모델링 수행 | KNN(KNeighborsClassifier)\n",
    "from sklearn.neighbors import KNeighborsClassifier\n",
    "from sklearn.metrics import roc_auc_score\n",
    "\n",
    "model = KNeighborsClassifier()\n",
    "model.fit(x_train2, y_train2)\n",
    "y_test2_predicted = model.predict(x_test2)\n",
    "\n",
    "print(roc_auc_score(y_test2, y_test2_predicted))"
   ],
   "outputs": [
    {
     "output_type": "stream",
     "name": "stdout",
     "text": [
      "0.5238095238095237\n"
     ]
    }
   ],
   "metadata": {}
  },
  {
   "cell_type": "code",
   "execution_count": 102,
   "source": [
    "## 분류 모델링 수행 | 다층 퍼셉트론 분류 (MLPClassifier)\n",
    "from sklearn.neural_network import MLPClassifier\n",
    "from sklearn.metrics import roc_auc_score\n",
    "\n",
    "model = MLPClassifier()\n",
    "model.fit(x_train2, y_train2)\n",
    "y_test2_predicted = model.predict(x_test2)\n",
    "\n",
    "print(roc_auc_score(y_test2, y_test2_predicted))"
   ],
   "outputs": [
    {
     "output_type": "stream",
     "name": "stdout",
     "text": [
      "0.5\n"
     ]
    }
   ],
   "metadata": {}
  },
  {
   "cell_type": "code",
   "execution_count": 104,
   "source": [
    "## 결과 공유하기\n",
    "# 작업형 제1유형 : 최종결과 print()\n",
    "# 작업형 제2유형 : csv파일로 저장하기, index=False 꼭 작성하기!\n",
    "# to_csv('/blabla.csv', index=False)\n",
    "\n",
    "print(type(y_test2_predicted))\n",
    "pd.DataFrame(y_test2_predicted).to_csv('data/12345.csv', index=False)"
   ],
   "outputs": [
    {
     "output_type": "stream",
     "name": "stdout",
     "text": [
      "<class 'numpy.ndarray'>\n"
     ]
    }
   ],
   "metadata": {}
  },
  {
   "cell_type": "code",
   "execution_count": null,
   "source": [],
   "outputs": [],
   "metadata": {}
  }
 ],
 "metadata": {
  "orig_nbformat": 4,
  "language_info": {
   "name": "python",
   "version": "3.8.8",
   "mimetype": "text/x-python",
   "codemirror_mode": {
    "name": "ipython",
    "version": 3
   },
   "pygments_lexer": "ipython3",
   "nbconvert_exporter": "python",
   "file_extension": ".py"
  },
  "kernelspec": {
   "name": "python3",
   "display_name": "Python 3.8.8 64-bit ('base': conda)"
  },
  "interpreter": {
   "hash": "1ae0b816e4ca1e0debe4793f5089eb4352941371641f734a80f9bdac6d69a3c5"
  }
 },
 "nbformat": 4,
 "nbformat_minor": 2
}