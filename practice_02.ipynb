{
 "cells": [
  {
   "cell_type": "code",
   "execution_count": 1,
   "source": [
    "# 작업형 제1유형, 프리렉 p.315 ~\n",
    "# 01. Top 10 구하기\n",
    "# boston 데이터 세트(boston.csv)의 MEDV 칼럼에 대해서 가장 작은 값부터 순서대로 10개 행을 출력해야 한다. \n",
    "# 즉, 오름차순으로 정렬된 MEDV 값에서 Top 10을 구하시오"
   ],
   "outputs": [],
   "metadata": {}
  },
  {
   "cell_type": "code",
   "execution_count": 13,
   "source": [
    "import pandas as pd\n",
    "data = pd.read_csv('/Users/dabeen/Desktop/DA_01/bigData-main/boston.csv')\n",
    "print(data.sort_values(by='MEDV', ascending=True)['MEDV'].head(10))"
   ],
   "outputs": [
    {
     "output_type": "stream",
     "name": "stdout",
     "text": [
      "398    5.0\n",
      "405    5.0\n",
      "400    5.6\n",
      "399    6.3\n",
      "414    7.0\n",
      "489    7.0\n",
      "401    7.2\n",
      "385    7.2\n",
      "415    7.2\n",
      "387    7.4\n",
      "Name: MEDV, dtype: float64\n"
     ]
    }
   ],
   "metadata": {}
  },
  {
   "cell_type": "code",
   "execution_count": 14,
   "source": [
    "# 02. 결측치 확인하기\n",
    "# boston 데이터 세트의 RM 칼럼에 대한 결측치 처리를 평균값으로 대치하거나 삭제할 수 있다.\n",
    "# RM 칼럼의 결측치를 평균값으로 대치한 후에 산출된 표준편차 값과 결측치를 삭제한 후에 산출된 표준편차 값의 차이를 구하시오.\n",
    "# 단 최종적으로 출력하는 차이는 양수이다."
   ],
   "outputs": [],
   "metadata": {}
  },
  {
   "cell_type": "code",
   "execution_count": 31,
   "source": [
    "import pandas as pd\n",
    "import numpy as np\n",
    "data = pd.read_csv('/Users/dabeen/Desktop/DA_01/bigData-main/boston.csv')\n",
    "\n",
    "rm_mean = data['RM'].mean()\n",
    "data_rm_mean = data['RM'].fillna(rm_mean)\n",
    "data_rm_delete = data['RM'].dropna()\n",
    "\n",
    "print(np.abs(np.std(data_rm_mean)-np.std(data_rm_delete)))\n",
    "print(abs(data_rm_mean.std()-data_rm_delete.std()))"
   ],
   "outputs": [
    {
     "output_type": "stream",
     "name": "stdout",
     "text": [
      "0.010563673788171024\n",
      "0.010595546094104624\n"
     ]
    }
   ],
   "metadata": {}
  },
  {
   "cell_type": "code",
   "execution_count": 32,
   "source": [
    "# 03. 이상값 확인하기\n",
    "# boston 데이터 세트의 ZN 칼럼을 대상으로 ZN의 값의 평균값에서 표준편차의 1.5배보다 크거나 작은 ZN 값의 합계를 구하시오."
   ],
   "outputs": [],
   "metadata": {}
  },
  {
   "cell_type": "code",
   "execution_count": 40,
   "source": [
    "import pandas as pd\n",
    "import numpy as np\n",
    "\n",
    "data = pd.read_csv('/Users/dabeen/Desktop/DA_01/bigData-main/boston.csv')\n",
    "zn_mean = data['ZN'].mean()\n",
    "zn_std = data['ZN'].std()\n",
    "\n",
    "zn_pre_sum = []\n",
    "i=0\n",
    "\n",
    "for i in data['ZN'] :\n",
    "    if zn_mean - 1.5 * zn_std <= i <= zn_mean + 1.5 * zn_std :\n",
    "        pass\n",
    "    else :\n",
    "        zn_pre_sum.append(i)\n",
    "    i = i+1\n",
    "\n",
    "print(np.sum(zn_pre_sum))\n"
   ],
   "outputs": [
    {
     "output_type": "execute_result",
     "data": {
      "text/plain": [
       "3462.5"
      ]
     },
     "metadata": {},
     "execution_count": 40
    }
   ],
   "metadata": {}
  },
  {
   "cell_type": "code",
   "execution_count": 41,
   "source": [
    "# 03. Ans\n",
    "import pandas as pd\n",
    "\n",
    "data = pd.read_csv('/Users/dabeen/Desktop/DA_01/bigData-main/boston.csv')\n",
    "\n",
    "zn_mean = data['ZN'].mean()\n",
    "zn_std = data['ZN'].std()\n",
    "zn_max = zn_mean + (1.5 * zn_std)\n",
    "zn_min = zn_mean - (1.5 * zn_std)\n",
    "zn_max2 = data[data['ZN'] > zn_max]['ZN']\n",
    "\n",
    "print(sum(zn_max2))"
   ],
   "outputs": [
    {
     "output_type": "stream",
     "name": "stdout",
     "text": [
      "3462.5\n"
     ]
    }
   ],
   "metadata": {}
  },
  {
   "cell_type": "code",
   "execution_count": 42,
   "source": [
    "# 04. 사분위수 구하기\n",
    "# boston 데이터 세트에서 CHAS 칼럼과 RAD 칼럼을 제외한 칼럼에 한하여 칼럼별 IQR 값을 구하시오.\n",
    "# 단, 출력 구조는 2열이고 1열은 보스턴 데이터 세트의 칼럼 이름이 표시되어야 한다."
   ],
   "outputs": [],
   "metadata": {}
  },
  {
   "cell_type": "code",
   "execution_count": 55,
   "source": [
    "import pandas as pd\n",
    "\n",
    "data = pd.read_csv('/Users/dabeen/Desktop/DA_01/bigData-main/boston.csv')\n",
    "data = data.drop(columns=['CHAS', 'RAD'])\n",
    "data_describe = data.describe().T\n",
    "data_describe = data_describe[['25%', '75%']]\n",
    "data_describe['IQR'] = data_describe['75%'] - data_describe['25%']\n",
    "data_iqr = data_describe['IQR']\n",
    "print(data_iqr)"
   ],
   "outputs": [
    {
     "output_type": "stream",
     "name": "stdout",
     "text": [
      "CRIM         3.595038\n",
      "ZN          12.500000\n",
      "INDUS       12.910000\n",
      "NOX          0.175000\n",
      "RM           0.736000\n",
      "AGE         49.050000\n",
      "DIS          3.088250\n",
      "TAX        387.000000\n",
      "PTRATIO      2.800000\n",
      "B           20.847500\n",
      "LSTAT       10.005000\n",
      "MEDV         7.975000\n",
      "Name: IQR, dtype: float64\n"
     ]
    }
   ],
   "metadata": {}
  },
  {
   "cell_type": "code",
   "execution_count": 56,
   "source": [
    "# 05. 순위 구하기\n",
    "# boston 데이터 세트의 MEDV 칼럼을 기준으로 30번째로 큰 값을 1번 ~ 29번째로 큰 값에 적용한다.\n",
    "# 그리고 MEDV 칼럼의 평균값, 중위값, 최솟값, 최댓값 순으로 한 줄에 출력하시오."
   ],
   "outputs": [],
   "metadata": {}
  },
  {
   "cell_type": "code",
   "execution_count": 72,
   "source": [
    "import pandas as pd\n",
    "\n",
    "data = pd.read_csv('/Users/dabeen/Desktop/DA_01/bigData-main/boston.csv')\n",
    "data_sort = data.sort_values(by=['MEDV'], ascending=False)\n",
    "for i in range(0, 29):\n",
    "    data_sort.iloc[i] = data_sort.iloc[29]\n",
    "\n",
    "# print(data_sort['MEDV'].describe())\n",
    "# print('-' * 30)\n",
    "print(data_sort['MEDV'].describe()[1], data_sort['MEDV'].describe()[5], data_sort['MEDV'].describe()[3], data_sort['MEDV'].describe()[7])"
   ],
   "outputs": [
    {
     "output_type": "stream",
     "name": "stdout",
     "text": [
      "count    506.000000\n",
      "mean      22.179644\n",
      "std        8.262658\n",
      "min        5.000000\n",
      "25%       17.025000\n",
      "50%       21.200000\n",
      "75%       25.000000\n",
      "max       41.700000\n",
      "Name: MEDV, dtype: float64\n",
      "------------------------------\n",
      "22.179644268774698 21.2 5.0 41.7\n"
     ]
    }
   ],
   "metadata": {}
  },
  {
   "cell_type": "code",
   "execution_count": 73,
   "source": [
    "# 05. Ans\n",
    "import pandas as pd\n",
    "\n",
    "data = pd.read_csv('/Users/dabeen/Desktop/DA_01/bigData-main/boston.csv')\n",
    "data_new = data['MEDV'].sort_values(ascending=False)\n",
    "data_new.iloc[0:29] = 41.7\n",
    "\n",
    "print(data_new.mean(), data_new.median(), data_new.min(), data_new.max())"
   ],
   "outputs": [
    {
     "output_type": "stream",
     "name": "stdout",
     "text": [
      "22.179644268774698 21.2 5.0 41.7\n"
     ]
    }
   ],
   "metadata": {}
  },
  {
   "cell_type": "code",
   "execution_count": 86,
   "source": [
    "# 06. 그룹별 집계/요약하기\n",
    "# boston 데이터 세트의 TAX 칼럼이 TAX 칼럼의 중위값보다 큰 데이터를 대상으로, CHAS 칼럼과 RAD 칼럼 순으로 그룹을 지은 후 각 그룹의 데이터 개수를 구하시오.\n",
    "# 단, CHAS, RAD 칼럼별 데이터 개수는 COUNT라는 칼럼으로 출력합니다."
   ],
   "outputs": [],
   "metadata": {}
  },
  {
   "cell_type": "code",
   "execution_count": 87,
   "source": [
    "import pandas as pd\n",
    "\n",
    "data = pd.read_csv('/Users/dabeen/Desktop/DA_01/bigData-main/boston.csv')\n",
    "data_01 = data[data.TAX > 330][['CHAS', 'RAD']]\n",
    "data_02 = data_01.groupby(['CHAS', 'RAD'])['RAD'].count()\n",
    "data_03 = pd.DataFrame(data_02)\n",
    "data_03.columns=['COUNT']\n",
    "print(data_03)"
   ],
   "outputs": [
    {
     "output_type": "stream",
     "name": "stdout",
     "text": [
      "          COUNT\n",
      "CHAS RAD       \n",
      "0    1        3\n",
      "     2        2\n",
      "     3        5\n",
      "     4       33\n",
      "     5       51\n",
      "     6       17\n",
      "     24     124\n",
      "1    5        7\n",
      "     24       8\n"
     ]
    }
   ],
   "metadata": {}
  },
  {
   "cell_type": "code",
   "execution_count": 88,
   "source": [
    "# 07. 오름차순/내름차순 정렬하기\n",
    "# boston 데이터 세트의 TAX 칼럼을 오름차순으로 정렬한 결과와 내림차순으로 정렬한 결과를 각각 구한다.\n",
    "# 그리고 각 순번에 맞는 오름차순 값과 내림차순 값의 차이를 구하여 분산 값을 구하시오"
   ],
   "outputs": [],
   "metadata": {}
  },
  {
   "cell_type": "code",
   "execution_count": 120,
   "source": [
    "import pandas as pd\n",
    "\n",
    "data = pd.read_csv('/Users/dabeen/Desktop/DA_01/bigData-main/boston.csv')\n",
    "data_02 = data['TAX'].copy()\n",
    "data_03 = data['TAX'].copy()\n",
    "\n",
    "data_02.sort_values(ascending=True, inplace=True)\n",
    "data_03.sort_values(ascending=False, inplace=True)\n",
    "data_02.reset_index(drop=True, inplace=True)\n",
    "data_03.reset_index(drop=True, inplace=True)\n",
    "data_concat = pd.concat([data_02, data_03], axis=1)\n",
    "data_concat['diff'] = abs(data_concat.iloc[:, 0]-data_concat.iloc[:, 1])\n",
    "print(data_concat['diff'].var())"
   ],
   "outputs": [
    {
     "output_type": "stream",
     "name": "stdout",
     "text": [
      "28490.5986459515\n"
     ]
    }
   ],
   "metadata": {}
  },
  {
   "cell_type": "code",
   "execution_count": 121,
   "source": [
    "# 08. 최소최대 변환하기\n",
    "# boston 데이터 세트의 MEDV 칼럼을 최소최대 척도로 변환한 후 0.5보다 큰 값을 가지는 레코드 수를 구하시오."
   ],
   "outputs": [],
   "metadata": {}
  },
  {
   "cell_type": "code",
   "execution_count": 139,
   "source": [
    "import pandas as pd\n",
    "from sklearn.preprocessing import MinMaxScaler\n",
    "\n",
    "data = pd.read_csv('/Users/dabeen/Desktop/DA_01/bigData-main/boston.csv')\n",
    "scaler = MinMaxScaler()\n",
    "\n",
    "data_02 = data[['MEDV']]\n",
    "data_mms = pd.DataFrame(scaler.fit_transform(data_02), columns=['MEDV'])\n",
    "\n",
    "print(data_mms[data_mms['MEDV'] > 0.5]['MEDV'].count())"
   ],
   "outputs": [
    {
     "output_type": "stream",
     "name": "stdout",
     "text": [
      "106\n"
     ]
    }
   ],
   "metadata": {}
  },
  {
   "cell_type": "code",
   "execution_count": 140,
   "source": [
    "# 09. 빈도값 구하기\n",
    "# boston 데이터 세트의 AGE 칼럼을 소수점 첫 번째 자리에서 반올림하고, 가장 많은 비중을 차지하는 AGE 값과 그 개수를 차례대로 출력하시오.\n",
    "# 즉, AGE 칼럼의 최빈값과 그 개수를 출력하시오"
   ],
   "outputs": [],
   "metadata": {}
  },
  {
   "cell_type": "code",
   "execution_count": 169,
   "source": [
    "import pandas as pd\n",
    "\n",
    "data = pd.read_csv('/Users/dabeen/Desktop/DA_01/bigData-main/boston.csv')\n",
    "data_02 = round(data['AGE'], 0)\n",
    "data_02 = pd.DataFrame(data_02)\n",
    "data_03 = data_02.groupby(['AGE'])['AGE'].count()\n",
    "data_03 = pd.DataFrame(data_03)\n",
    "data_03.columns = ['COUNT']\n",
    "data_04 = data_03.sort_values(by='COUNT', ascending=False)\n",
    "data_04.reset_index(drop=False, inplace=True)\n",
    "print(data_04.iloc[0,0],data_04.iloc[0,1])"
   ],
   "outputs": [
    {
     "output_type": "stream",
     "name": "stdout",
     "text": [
      "100.0 43\n"
     ]
    }
   ],
   "metadata": {}
  },
  {
   "cell_type": "code",
   "execution_count": 171,
   "source": [
    "import pandas as pd\n",
    "from scipy.stats import mode\n",
    "\n",
    "data = pd.read_csv('/Users/dabeen/Desktop/DA_01/bigData-main/boston.csv')\n",
    "data_02 = round(data['AGE'], 0)\n",
    "print(int(mode(data_02)[0]), int(mode(data_02)[1]))"
   ],
   "outputs": [
    {
     "output_type": "stream",
     "name": "stdout",
     "text": [
      "100 43\n"
     ]
    }
   ],
   "metadata": {}
  },
  {
   "cell_type": "code",
   "execution_count": 172,
   "source": [
    "# 10. 표준 변환하기\n",
    "# boston 데이터 세트의 DIS 칼럼을 표준화 척도로 변환한 후, 0.4보다 크면서 0.6보다 작은 값들에 대한 평균을 구하시오.\n",
    "# 단, 소수점 셋째 자리에서 반올림하여 소수점 둘째 자리까지 출력하시오"
   ],
   "outputs": [],
   "metadata": {}
  },
  {
   "cell_type": "code",
   "execution_count": 187,
   "source": [
    "import pandas as pd\n",
    "import numpy as np\n",
    "from sklearn.preprocessing import StandardScaler\n",
    "\n",
    "data = pd.read_csv('/Users/dabeen/Desktop/DA_01/bigData-main/boston.csv')\n",
    "scaler = StandardScaler()\n",
    "\n",
    "data2 = scaler.fit_transform(data[['DIS']])\n",
    "data2 = pd.DataFrame(data2)\n",
    "\n",
    "data3 = []\n",
    "i = 0\n",
    "\n",
    "for i in range(0, len(data2)) :\n",
    "    if 0.4 < data2.iloc[i, 0] < 0.6 :\n",
    "        data3.append(data2.iloc[i, 0])\n",
    "    else :\n",
    "        pass\n",
    "    i = i+1\n",
    "\n",
    "print(round(np.average(data3), 2))"
   ],
   "outputs": [
    {
     "output_type": "stream",
     "name": "stdout",
     "text": [
      "0.48\n"
     ]
    }
   ],
   "metadata": {}
  },
  {
   "cell_type": "code",
   "execution_count": 190,
   "source": [
    "import pandas as pd\n",
    "from sklearn.preprocessing import StandardScaler\n",
    "\n",
    "data = pd.read_csv('/Users/dabeen/Desktop/DA_01/bigData-main/boston.csv')\n",
    "scaler = StandardScaler()\n",
    "\n",
    "data_stdd = scaler.fit_transform(data)\n",
    "data_stdd = pd.DataFrame(data_stdd, columns=data.columns)\n",
    "data_stdd = data_stdd[(data_stdd['DIS'] > 0.4) & (data_stdd['DIS'] < 0.6)]['DIS']\n",
    "print(round(data_stdd.mean(), 2))"
   ],
   "outputs": [
    {
     "output_type": "stream",
     "name": "stdout",
     "text": [
      "0.48\n"
     ]
    }
   ],
   "metadata": {}
  },
  {
   "cell_type": "code",
   "execution_count": 240,
   "source": [
    "# 11. 유니크한 값 구하기\n",
    "# boston 데이터 세트의 전체 칼럼에 대해서 중복을 제거한 유니크한 값을 구한 후, 칼럼별로 유니크한 값의 개수를 기준으로 평균값을 구하시오."
   ],
   "outputs": [],
   "metadata": {}
  },
  {
   "cell_type": "code",
   "execution_count": 241,
   "source": [
    "import pandas as pd\n",
    "\n",
    "data = pd.read_csv('/Users/dabeen/Desktop/DA_01/bigData-main/boston.csv')\n",
    "data2 = data.copy()\n",
    "\n",
    "data3 = []\n",
    "\n",
    "for i in range(0, len(data.columns)) :\n",
    "    dt = int(pd.DataFrame(data2.iloc[:,i].dropna().unique()).count())\n",
    "    data3.append(dt)\n",
    "\n",
    "\n",
    "print(int(pd.DataFrame(data3).mean()))"
   ],
   "outputs": [
    {
     "output_type": "stream",
     "name": "stdout",
     "text": [
      "218\n"
     ]
    }
   ],
   "metadata": {}
  },
  {
   "cell_type": "code",
   "execution_count": null,
   "source": [],
   "outputs": [],
   "metadata": {}
  }
 ],
 "metadata": {
  "orig_nbformat": 4,
  "language_info": {
   "name": "python",
   "version": "3.8.8",
   "mimetype": "text/x-python",
   "codemirror_mode": {
    "name": "ipython",
    "version": 3
   },
   "pygments_lexer": "ipython3",
   "nbconvert_exporter": "python",
   "file_extension": ".py"
  },
  "kernelspec": {
   "name": "python3",
   "display_name": "Python 3.8.8 64-bit ('base': conda)"
  },
  "interpreter": {
   "hash": "1ae0b816e4ca1e0debe4793f5089eb4352941371641f734a80f9bdac6d69a3c5"
  }
 },
 "nbformat": 4,
 "nbformat_minor": 2
}