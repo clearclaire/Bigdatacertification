{
 "cells": [
  {
   "cell_type": "code",
   "execution_count": 1,
   "source": [
    "## 02.\n",
    "# 고객 891명에 대한 학습용 데이터를 이용하여 생존 여부를 예측하는 모형을 만듭니다.\n",
    "# 이후 예측 모형을 평가용 데이터에 적용하여 418명 승객의 생존여부 예측값을 다음과 같은 형식의 csv 파일로 생성하시오.\n",
    "# 제출한 모델의 성능은 ROC-AUC 평가지표에 따라 채점\n",
    "# 성능이 우수한 예측 모형을 구축하려면 적절한 데이터 전처리, Feature Engineering, 분류 알고리즘 사용, 하이퍼 매개변수 최적화, 모형 앙상블 등이 수반되어야 한다."
   ],
   "outputs": [],
   "metadata": {}
  },
  {
   "cell_type": "code",
   "execution_count": 9,
   "source": [
    "import pandas as pd\n",
    "x_train = pd.read_csv('/Users/dabeen/Desktop/DA_01/bigData-main/titanic_x_train.csv', encoding='cp949')\n",
    "x_test = pd.read_csv('/Users/dabeen/Desktop/DA_01/bigData-main/titanic_x_test.csv', encoding='cp949')\n",
    "y_train = pd.read_csv('/Users/dabeen/Desktop/DA_01/bigData-main/titanic_y_train.csv')\n",
    "\n",
    "print(x_train.info())\n",
    "print(y_train.info())"
   ],
   "outputs": [
    {
     "output_type": "stream",
     "name": "stdout",
     "text": [
      "<class 'pandas.core.frame.DataFrame'>\n",
      "RangeIndex: 891 entries, 0 to 890\n",
      "Data columns (total 11 columns):\n",
      " #   Column       Non-Null Count  Dtype  \n",
      "---  ------       --------------  -----  \n",
      " 0   PassengerId  891 non-null    int64  \n",
      " 1   티켓등급         891 non-null    int64  \n",
      " 2   승객이름         891 non-null    object \n",
      " 3   성별           891 non-null    object \n",
      " 4   나이           714 non-null    float64\n",
      " 5   형제자매배우자수     891 non-null    int64  \n",
      " 6   부모자식수        891 non-null    int64  \n",
      " 7   티켓번호         891 non-null    object \n",
      " 8   운임요금         891 non-null    float64\n",
      " 9   객실번호         204 non-null    object \n",
      " 10  선착장          889 non-null    object \n",
      "dtypes: float64(2), int64(4), object(5)\n",
      "memory usage: 76.7+ KB\n",
      "None\n",
      "<class 'pandas.core.frame.DataFrame'>\n",
      "RangeIndex: 891 entries, 0 to 890\n",
      "Data columns (total 2 columns):\n",
      " #   Column       Non-Null Count  Dtype\n",
      "---  ------       --------------  -----\n",
      " 0   PassengerId  891 non-null    int64\n",
      " 1   Survived     891 non-null    int64\n",
      "dtypes: int64(2)\n",
      "memory usage: 14.0 KB\n",
      "None\n"
     ]
    }
   ],
   "metadata": {}
  },
  {
   "cell_type": "code",
   "execution_count": 13,
   "source": [
    "data = pd.concat([x_train, y_train], axis=1)\n",
    "data"
   ],
   "outputs": [
    {
     "output_type": "execute_result",
     "data": {
      "text/html": [
       "<div>\n",
       "<style scoped>\n",
       "    .dataframe tbody tr th:only-of-type {\n",
       "        vertical-align: middle;\n",
       "    }\n",
       "\n",
       "    .dataframe tbody tr th {\n",
       "        vertical-align: top;\n",
       "    }\n",
       "\n",
       "    .dataframe thead th {\n",
       "        text-align: right;\n",
       "    }\n",
       "</style>\n",
       "<table border=\"1\" class=\"dataframe\">\n",
       "  <thead>\n",
       "    <tr style=\"text-align: right;\">\n",
       "      <th></th>\n",
       "      <th>PassengerId</th>\n",
       "      <th>티켓등급</th>\n",
       "      <th>승객이름</th>\n",
       "      <th>성별</th>\n",
       "      <th>나이</th>\n",
       "      <th>형제자매배우자수</th>\n",
       "      <th>부모자식수</th>\n",
       "      <th>티켓번호</th>\n",
       "      <th>운임요금</th>\n",
       "      <th>객실번호</th>\n",
       "      <th>선착장</th>\n",
       "      <th>PassengerId</th>\n",
       "      <th>Survived</th>\n",
       "    </tr>\n",
       "  </thead>\n",
       "  <tbody>\n",
       "    <tr>\n",
       "      <th>0</th>\n",
       "      <td>1</td>\n",
       "      <td>3</td>\n",
       "      <td>Braund, Mr. Owen Harris</td>\n",
       "      <td>male</td>\n",
       "      <td>22.0</td>\n",
       "      <td>1</td>\n",
       "      <td>0</td>\n",
       "      <td>A/5 21171</td>\n",
       "      <td>7.2500</td>\n",
       "      <td>NaN</td>\n",
       "      <td>S</td>\n",
       "      <td>1</td>\n",
       "      <td>0</td>\n",
       "    </tr>\n",
       "    <tr>\n",
       "      <th>1</th>\n",
       "      <td>2</td>\n",
       "      <td>1</td>\n",
       "      <td>Cumings, Mrs. John Bradley (Florence Briggs Th...</td>\n",
       "      <td>female</td>\n",
       "      <td>38.0</td>\n",
       "      <td>1</td>\n",
       "      <td>0</td>\n",
       "      <td>PC 17599</td>\n",
       "      <td>71.2833</td>\n",
       "      <td>C85</td>\n",
       "      <td>C</td>\n",
       "      <td>2</td>\n",
       "      <td>1</td>\n",
       "    </tr>\n",
       "    <tr>\n",
       "      <th>2</th>\n",
       "      <td>3</td>\n",
       "      <td>3</td>\n",
       "      <td>Heikkinen, Miss. Laina</td>\n",
       "      <td>female</td>\n",
       "      <td>26.0</td>\n",
       "      <td>0</td>\n",
       "      <td>0</td>\n",
       "      <td>STON/O2. 3101282</td>\n",
       "      <td>7.9250</td>\n",
       "      <td>NaN</td>\n",
       "      <td>S</td>\n",
       "      <td>3</td>\n",
       "      <td>1</td>\n",
       "    </tr>\n",
       "    <tr>\n",
       "      <th>3</th>\n",
       "      <td>4</td>\n",
       "      <td>1</td>\n",
       "      <td>Futrelle, Mrs. Jacques Heath (Lily May Peel)</td>\n",
       "      <td>female</td>\n",
       "      <td>35.0</td>\n",
       "      <td>1</td>\n",
       "      <td>0</td>\n",
       "      <td>113803</td>\n",
       "      <td>53.1000</td>\n",
       "      <td>C123</td>\n",
       "      <td>S</td>\n",
       "      <td>4</td>\n",
       "      <td>1</td>\n",
       "    </tr>\n",
       "    <tr>\n",
       "      <th>4</th>\n",
       "      <td>5</td>\n",
       "      <td>3</td>\n",
       "      <td>Allen, Mr. William Henry</td>\n",
       "      <td>male</td>\n",
       "      <td>35.0</td>\n",
       "      <td>0</td>\n",
       "      <td>0</td>\n",
       "      <td>373450</td>\n",
       "      <td>8.0500</td>\n",
       "      <td>NaN</td>\n",
       "      <td>S</td>\n",
       "      <td>5</td>\n",
       "      <td>0</td>\n",
       "    </tr>\n",
       "    <tr>\n",
       "      <th>...</th>\n",
       "      <td>...</td>\n",
       "      <td>...</td>\n",
       "      <td>...</td>\n",
       "      <td>...</td>\n",
       "      <td>...</td>\n",
       "      <td>...</td>\n",
       "      <td>...</td>\n",
       "      <td>...</td>\n",
       "      <td>...</td>\n",
       "      <td>...</td>\n",
       "      <td>...</td>\n",
       "      <td>...</td>\n",
       "      <td>...</td>\n",
       "    </tr>\n",
       "    <tr>\n",
       "      <th>886</th>\n",
       "      <td>887</td>\n",
       "      <td>2</td>\n",
       "      <td>Montvila, Rev. Juozas</td>\n",
       "      <td>male</td>\n",
       "      <td>27.0</td>\n",
       "      <td>0</td>\n",
       "      <td>0</td>\n",
       "      <td>211536</td>\n",
       "      <td>13.0000</td>\n",
       "      <td>NaN</td>\n",
       "      <td>S</td>\n",
       "      <td>887</td>\n",
       "      <td>0</td>\n",
       "    </tr>\n",
       "    <tr>\n",
       "      <th>887</th>\n",
       "      <td>888</td>\n",
       "      <td>1</td>\n",
       "      <td>Graham, Miss. Margaret Edith</td>\n",
       "      <td>female</td>\n",
       "      <td>19.0</td>\n",
       "      <td>0</td>\n",
       "      <td>0</td>\n",
       "      <td>112053</td>\n",
       "      <td>30.0000</td>\n",
       "      <td>B42</td>\n",
       "      <td>S</td>\n",
       "      <td>888</td>\n",
       "      <td>1</td>\n",
       "    </tr>\n",
       "    <tr>\n",
       "      <th>888</th>\n",
       "      <td>889</td>\n",
       "      <td>3</td>\n",
       "      <td>Johnston, Miss. Catherine Helen \"Carrie\"</td>\n",
       "      <td>female</td>\n",
       "      <td>NaN</td>\n",
       "      <td>1</td>\n",
       "      <td>2</td>\n",
       "      <td>W./C. 6607</td>\n",
       "      <td>23.4500</td>\n",
       "      <td>NaN</td>\n",
       "      <td>S</td>\n",
       "      <td>889</td>\n",
       "      <td>0</td>\n",
       "    </tr>\n",
       "    <tr>\n",
       "      <th>889</th>\n",
       "      <td>890</td>\n",
       "      <td>1</td>\n",
       "      <td>Behr, Mr. Karl Howell</td>\n",
       "      <td>male</td>\n",
       "      <td>26.0</td>\n",
       "      <td>0</td>\n",
       "      <td>0</td>\n",
       "      <td>111369</td>\n",
       "      <td>30.0000</td>\n",
       "      <td>C148</td>\n",
       "      <td>C</td>\n",
       "      <td>890</td>\n",
       "      <td>1</td>\n",
       "    </tr>\n",
       "    <tr>\n",
       "      <th>890</th>\n",
       "      <td>891</td>\n",
       "      <td>3</td>\n",
       "      <td>Dooley, Mr. Patrick</td>\n",
       "      <td>male</td>\n",
       "      <td>32.0</td>\n",
       "      <td>0</td>\n",
       "      <td>0</td>\n",
       "      <td>370376</td>\n",
       "      <td>7.7500</td>\n",
       "      <td>NaN</td>\n",
       "      <td>Q</td>\n",
       "      <td>891</td>\n",
       "      <td>0</td>\n",
       "    </tr>\n",
       "  </tbody>\n",
       "</table>\n",
       "<p>891 rows × 13 columns</p>\n",
       "</div>"
      ],
      "text/plain": [
       "     PassengerId  티켓등급                                               승객이름  \\\n",
       "0              1     3                            Braund, Mr. Owen Harris   \n",
       "1              2     1  Cumings, Mrs. John Bradley (Florence Briggs Th...   \n",
       "2              3     3                             Heikkinen, Miss. Laina   \n",
       "3              4     1       Futrelle, Mrs. Jacques Heath (Lily May Peel)   \n",
       "4              5     3                           Allen, Mr. William Henry   \n",
       "..           ...   ...                                                ...   \n",
       "886          887     2                              Montvila, Rev. Juozas   \n",
       "887          888     1                       Graham, Miss. Margaret Edith   \n",
       "888          889     3           Johnston, Miss. Catherine Helen \"Carrie\"   \n",
       "889          890     1                              Behr, Mr. Karl Howell   \n",
       "890          891     3                                Dooley, Mr. Patrick   \n",
       "\n",
       "         성별    나이  형제자매배우자수  부모자식수              티켓번호     운임요금  객실번호 선착장  \\\n",
       "0      male  22.0         1      0         A/5 21171   7.2500   NaN   S   \n",
       "1    female  38.0         1      0          PC 17599  71.2833   C85   C   \n",
       "2    female  26.0         0      0  STON/O2. 3101282   7.9250   NaN   S   \n",
       "3    female  35.0         1      0            113803  53.1000  C123   S   \n",
       "4      male  35.0         0      0            373450   8.0500   NaN   S   \n",
       "..      ...   ...       ...    ...               ...      ...   ...  ..   \n",
       "886    male  27.0         0      0            211536  13.0000   NaN   S   \n",
       "887  female  19.0         0      0            112053  30.0000   B42   S   \n",
       "888  female   NaN         1      2        W./C. 6607  23.4500   NaN   S   \n",
       "889    male  26.0         0      0            111369  30.0000  C148   C   \n",
       "890    male  32.0         0      0            370376   7.7500   NaN   Q   \n",
       "\n",
       "     PassengerId  Survived  \n",
       "0              1         0  \n",
       "1              2         1  \n",
       "2              3         1  \n",
       "3              4         1  \n",
       "4              5         0  \n",
       "..           ...       ...  \n",
       "886          887         0  \n",
       "887          888         1  \n",
       "888          889         0  \n",
       "889          890         1  \n",
       "890          891         0  \n",
       "\n",
       "[891 rows x 13 columns]"
      ]
     },
     "metadata": {},
     "execution_count": 13
    }
   ],
   "metadata": {}
  },
  {
   "cell_type": "code",
   "execution_count": 15,
   "source": [
    "print(data.groupby(['성별'])['Survived'].mean())\n",
    "print(data.groupby(['티켓등급'])['Survived'].mean())\n",
    "print(data.groupby(['선착장'])['Survived'].mean())"
   ],
   "outputs": [
    {
     "output_type": "stream",
     "name": "stdout",
     "text": [
      "성별\n",
      "female    0.742038\n",
      "male      0.188908\n",
      "Name: Survived, dtype: float64\n",
      "티켓등급\n",
      "1    0.629630\n",
      "2    0.472826\n",
      "3    0.242363\n",
      "Name: Survived, dtype: float64\n",
      "선착장\n",
      "C    0.553571\n",
      "Q    0.389610\n",
      "S    0.336957\n",
      "Name: Survived, dtype: float64\n"
     ]
    }
   ],
   "metadata": {}
  },
  {
   "cell_type": "code",
   "execution_count": 17,
   "source": [
    "x_test_passenger_id = x_test['PassengerId']\n",
    "x_train = x_train.drop(columns=['PassengerId'])\n",
    "x_test = x_test.drop(columns=['PassengerId'])\n",
    "y_train = y_train.drop(columns=['PassengerId'])\n",
    "print(x_train.head(3))\n",
    "print(x_test.head(3))\n",
    "print(y_train.head(3))"
   ],
   "outputs": [
    {
     "output_type": "stream",
     "name": "stdout",
     "text": [
      "   티켓등급                                               승객이름      성별    나이  \\\n",
      "0     3                            Braund, Mr. Owen Harris    male  22.0   \n",
      "1     1  Cumings, Mrs. John Bradley (Florence Briggs Th...  female  38.0   \n",
      "2     3                             Heikkinen, Miss. Laina  female  26.0   \n",
      "\n",
      "   형제자매배우자수  부모자식수              티켓번호     운임요금 객실번호 선착장  \n",
      "0         1      0         A/5 21171   7.2500  NaN   S  \n",
      "1         1      0          PC 17599  71.2833  C85   C  \n",
      "2         0      0  STON/O2. 3101282   7.9250  NaN   S  \n",
      "   티켓등급                              승객이름      성별    나이  형제자매배우자수  부모자식수  \\\n",
      "0     3                  Kelly, Mr. James    male  34.5         0      0   \n",
      "1     3  Wilkes, Mrs. James (Ellen Needs)  female  47.0         1      0   \n",
      "2     2         Myles, Mr. Thomas Francis    male  62.0         0      0   \n",
      "\n",
      "     티켓번호    운임요금 객실번호 선착장  \n",
      "0  330911  7.8292  NaN   Q  \n",
      "1  363272  7.0000  NaN   S  \n",
      "2  240276  9.6875  NaN   Q  \n",
      "   Survived\n",
      "0         0\n",
      "1         1\n",
      "2         1\n"
     ]
    }
   ],
   "metadata": {}
  },
  {
   "cell_type": "code",
   "execution_count": 18,
   "source": [
    "x_train = x_train.drop(columns=['티켓번호', '승객이름'])\n",
    "x_test = x_test.drop(columns=['티켓번호', '승객이름'])"
   ],
   "outputs": [],
   "metadata": {}
  },
  {
   "cell_type": "code",
   "execution_count": 20,
   "source": [
    "print(data[['나이', 'Survived']].corr())"
   ],
   "outputs": [
    {
     "output_type": "stream",
     "name": "stdout",
     "text": [
      "                나이  Survived\n",
      "나이        1.000000 -0.077221\n",
      "Survived -0.077221  1.000000\n",
      "          Survived\n",
      "Survived       1.0\n",
      "          Survived\n",
      "Survived       1.0\n"
     ]
    }
   ],
   "metadata": {}
  },
  {
   "cell_type": "code",
   "execution_count": 21,
   "source": [
    "x_train = x_train.drop(columns=['나이', '객실번호'])\n",
    "x_test = x_test.drop(columns=['나이', '객실번호'])"
   ],
   "outputs": [],
   "metadata": {}
  },
  {
   "cell_type": "code",
   "execution_count": 22,
   "source": [
    "print(x_train.groupby(['선착장'])['선착장'].count())"
   ],
   "outputs": [
    {
     "output_type": "stream",
     "name": "stdout",
     "text": [
      "선착장\n",
      "C    168\n",
      "Q     77\n",
      "S    644\n",
      "Name: 선착장, dtype: int64\n"
     ]
    }
   ],
   "metadata": {}
  },
  {
   "cell_type": "code",
   "execution_count": 24,
   "source": [
    "x_train['선착장'] = x_train['선착장'].fillna('S')\n",
    "print(x_train['선착장'].isnull().sum())\n",
    "print(x_test['선착장'].isnull().sum())\n"
   ],
   "outputs": [
    {
     "output_type": "stream",
     "name": "stdout",
     "text": [
      "0\n",
      "0\n"
     ]
    }
   ],
   "metadata": {}
  },
  {
   "cell_type": "code",
   "execution_count": 25,
   "source": [
    "x_train['성별'] = x_train['성별'].replace('male', 0).replace('female', 1)\n",
    "x_test['성별'] = x_test['성별'].replace('male', 0).replace('female', 1)"
   ],
   "outputs": [],
   "metadata": {}
  },
  {
   "cell_type": "code",
   "execution_count": 26,
   "source": [
    "선착장_dummy = pd.get_dummies(x_train['선착장'], drop_first=True).rename(columns={'Q':'선착장Q', 'S':'선착장S'})\n",
    "x_train = pd.concat([x_train, 선착장_dummy], axis=1)\n",
    "print(x_train.head())"
   ],
   "outputs": [
    {
     "output_type": "stream",
     "name": "stdout",
     "text": [
      "   티켓등급  성별  형제자매배우자수  부모자식수     운임요금 선착장  선착장Q  선착장S\n",
      "0     3   0         1      0   7.2500   S     0     1\n",
      "1     1   1         1      0  71.2833   C     0     0\n",
      "2     3   1         0      0   7.9250   S     0     1\n",
      "3     1   1         1      0  53.1000   S     0     1\n",
      "4     3   0         0      0   8.0500   S     0     1\n"
     ]
    }
   ],
   "metadata": {}
  },
  {
   "cell_type": "code",
   "execution_count": 27,
   "source": [
    "x_train = x_train.drop(columns=['선착장'])\n",
    "x_train.head()"
   ],
   "outputs": [
    {
     "output_type": "execute_result",
     "data": {
      "text/html": [
       "<div>\n",
       "<style scoped>\n",
       "    .dataframe tbody tr th:only-of-type {\n",
       "        vertical-align: middle;\n",
       "    }\n",
       "\n",
       "    .dataframe tbody tr th {\n",
       "        vertical-align: top;\n",
       "    }\n",
       "\n",
       "    .dataframe thead th {\n",
       "        text-align: right;\n",
       "    }\n",
       "</style>\n",
       "<table border=\"1\" class=\"dataframe\">\n",
       "  <thead>\n",
       "    <tr style=\"text-align: right;\">\n",
       "      <th></th>\n",
       "      <th>티켓등급</th>\n",
       "      <th>성별</th>\n",
       "      <th>형제자매배우자수</th>\n",
       "      <th>부모자식수</th>\n",
       "      <th>운임요금</th>\n",
       "      <th>선착장Q</th>\n",
       "      <th>선착장S</th>\n",
       "    </tr>\n",
       "  </thead>\n",
       "  <tbody>\n",
       "    <tr>\n",
       "      <th>0</th>\n",
       "      <td>3</td>\n",
       "      <td>0</td>\n",
       "      <td>1</td>\n",
       "      <td>0</td>\n",
       "      <td>7.2500</td>\n",
       "      <td>0</td>\n",
       "      <td>1</td>\n",
       "    </tr>\n",
       "    <tr>\n",
       "      <th>1</th>\n",
       "      <td>1</td>\n",
       "      <td>1</td>\n",
       "      <td>1</td>\n",
       "      <td>0</td>\n",
       "      <td>71.2833</td>\n",
       "      <td>0</td>\n",
       "      <td>0</td>\n",
       "    </tr>\n",
       "    <tr>\n",
       "      <th>2</th>\n",
       "      <td>3</td>\n",
       "      <td>1</td>\n",
       "      <td>0</td>\n",
       "      <td>0</td>\n",
       "      <td>7.9250</td>\n",
       "      <td>0</td>\n",
       "      <td>1</td>\n",
       "    </tr>\n",
       "    <tr>\n",
       "      <th>3</th>\n",
       "      <td>1</td>\n",
       "      <td>1</td>\n",
       "      <td>1</td>\n",
       "      <td>0</td>\n",
       "      <td>53.1000</td>\n",
       "      <td>0</td>\n",
       "      <td>1</td>\n",
       "    </tr>\n",
       "    <tr>\n",
       "      <th>4</th>\n",
       "      <td>3</td>\n",
       "      <td>0</td>\n",
       "      <td>0</td>\n",
       "      <td>0</td>\n",
       "      <td>8.0500</td>\n",
       "      <td>0</td>\n",
       "      <td>1</td>\n",
       "    </tr>\n",
       "  </tbody>\n",
       "</table>\n",
       "</div>"
      ],
      "text/plain": [
       "   티켓등급  성별  형제자매배우자수  부모자식수     운임요금  선착장Q  선착장S\n",
       "0     3   0         1      0   7.2500     0     1\n",
       "1     1   1         1      0  71.2833     0     0\n",
       "2     3   1         0      0   7.9250     0     1\n",
       "3     1   1         1      0  53.1000     0     1\n",
       "4     3   0         0      0   8.0500     0     1"
      ]
     },
     "metadata": {},
     "execution_count": 27
    }
   ],
   "metadata": {}
  },
  {
   "cell_type": "code",
   "execution_count": 28,
   "source": [
    "선착장_dummy = pd.get_dummies(x_test['선착장'], drop_first=True).rename(columns={'Q':'선착장Q', 'S':'선착장S'})\n",
    "x_test = pd.concat([x_test, 선착장_dummy], axis=1)\n",
    "x_test = x_test.drop(columns=['선착장'])\n",
    "print(x_train.head())"
   ],
   "outputs": [
    {
     "output_type": "stream",
     "name": "stdout",
     "text": [
      "   티켓등급  성별  형제자매배우자수  부모자식수     운임요금  선착장Q  선착장S\n",
      "0     3   0         1      0   7.2500     0     1\n",
      "1     1   1         1      0  71.2833     0     0\n",
      "2     3   1         0      0   7.9250     0     1\n",
      "3     1   1         1      0  53.1000     0     1\n",
      "4     3   0         0      0   8.0500     0     1\n"
     ]
    }
   ],
   "metadata": {}
  },
  {
   "cell_type": "code",
   "execution_count": 29,
   "source": [
    "x_train['가족수'] = x_train['형제자매배우자수'] + x_train['부모자식수']\n",
    "x_train = x_train.drop(columns=['형제자매배우자수', '부모자식수'])\n",
    "x_test['가족수'] = x_test['형제자매배우자수'] + x_test['부모자식수']\n",
    "x_test = x_test.drop(columns=['형제자매배우자수', '부모자식수'])\n",
    "\n",
    "print(x_train.head(3))\n",
    "print(x_test.head(3))"
   ],
   "outputs": [
    {
     "output_type": "stream",
     "name": "stdout",
     "text": [
      "   티켓등급  성별     운임요금  선착장Q  선착장S  가족수\n",
      "0     3   0   7.2500     0     1    1\n",
      "1     1   1  71.2833     0     0    1\n",
      "2     3   1   7.9250     0     1    0\n",
      "   티켓등급  성별    운임요금  선착장Q  선착장S  가족수\n",
      "0     3   0  7.8292     1     0    0\n",
      "1     3   1  7.0000     0     1    1\n",
      "2     2   0  9.6875     1     0    0\n"
     ]
    }
   ],
   "metadata": {}
  },
  {
   "cell_type": "code",
   "execution_count": 30,
   "source": [
    "from sklearn.model_selection import train_test_split\n",
    "\n",
    "X_TRAIN, X_TEST, Y_TRAIN, Y_TEST = train_test_split(x_train, y_train, test_size=0.3, random_state=10)"
   ],
   "outputs": [],
   "metadata": {}
  },
  {
   "cell_type": "code",
   "execution_count": 31,
   "source": [
    "from xgboost import XGBClassifier\n",
    "model = XGBClassifier(n_estimators=100, max_depth=5, eval_metric='error', random_state=10)\n",
    "model.fit(X_TRAIN, Y_TRAIN)"
   ],
   "outputs": [
    {
     "output_type": "stream",
     "name": "stderr",
     "text": [
      "/Users/dabeen/opt/anaconda3/lib/python3.8/site-packages/xgboost/sklearn.py:888: UserWarning: The use of label encoder in XGBClassifier is deprecated and will be removed in a future release. To remove this warning, do the following: 1) Pass option use_label_encoder=False when constructing XGBClassifier object; and 2) Encode your labels (y) as integers starting with 0, i.e. 0, 1, 2, ..., [num_class - 1].\n",
      "  warnings.warn(label_encoder_deprecation_msg, UserWarning)\n",
      "/Users/dabeen/opt/anaconda3/lib/python3.8/site-packages/sklearn/utils/validation.py:63: DataConversionWarning: A column-vector y was passed when a 1d array was expected. Please change the shape of y to (n_samples, ), for example using ravel().\n",
      "  return f(*args, **kwargs)\n"
     ]
    },
    {
     "output_type": "execute_result",
     "data": {
      "text/plain": [
       "XGBClassifier(base_score=0.5, booster='gbtree', colsample_bylevel=1,\n",
       "              colsample_bynode=1, colsample_bytree=1, eval_metric='error',\n",
       "              gamma=0, gpu_id=-1, importance_type='gain',\n",
       "              interaction_constraints='', learning_rate=0.300000012,\n",
       "              max_delta_step=0, max_depth=5, min_child_weight=1, missing=nan,\n",
       "              monotone_constraints='()', n_estimators=100, n_jobs=8,\n",
       "              num_parallel_tree=1, random_state=10, reg_alpha=0, reg_lambda=1,\n",
       "              scale_pos_weight=1, subsample=1, tree_method='exact',\n",
       "              validate_parameters=1, verbosity=None)"
      ]
     },
     "metadata": {},
     "execution_count": 31
    }
   ],
   "metadata": {}
  },
  {
   "cell_type": "code",
   "execution_count": 32,
   "source": [
    "y_test_predicted = pd.DataFrame(model.predict(x_test)).rename(columns={0:'Survived'})\n",
    "print(pd.DataFrame(y_test_predicted).head(10))"
   ],
   "outputs": [
    {
     "output_type": "stream",
     "name": "stdout",
     "text": [
      "   Survived\n",
      "0         0\n",
      "1         1\n",
      "2         0\n",
      "3         0\n",
      "4         1\n",
      "5         0\n",
      "6         1\n",
      "7         0\n",
      "8         1\n",
      "9         0\n"
     ]
    }
   ],
   "metadata": {}
  },
  {
   "cell_type": "code",
   "execution_count": 33,
   "source": [
    "Y_TEST_PREDICTED = pd.DataFrame(model.predict(X_TEST))"
   ],
   "outputs": [],
   "metadata": {}
  },
  {
   "cell_type": "code",
   "execution_count": 34,
   "source": [
    "from sklearn.metrics import roc_auc_score\n",
    "print(roc_auc_score(Y_TEST, Y_TEST_PREDICTED))"
   ],
   "outputs": [
    {
     "output_type": "stream",
     "name": "stdout",
     "text": [
      "0.7812423575446319\n"
     ]
    }
   ],
   "metadata": {}
  },
  {
   "cell_type": "code",
   "execution_count": null,
   "source": [
    "final = pd.concat([x_test_passenger_id, Y_TEST_PREDICTED], axis=1)\n",
    "final.to_csv('/12345.csv', index=False)"
   ],
   "outputs": [],
   "metadata": {}
  },
  {
   "cell_type": "code",
   "execution_count": 43,
   "source": [
    "import pandas as pd\n",
    "x_train = pd.read_csv('/Users/dabeen/Desktop/DA_01/bigData-main/titanic_x_train.csv', encoding='cp949')\n",
    "x_test = pd.read_csv('/Users/dabeen/Desktop/DA_01/bigData-main/titanic_x_test.csv', encoding='cp949')\n",
    "y_train = pd.read_csv('/Users/dabeen/Desktop/DA_01/bigData-main/titanic_y_train.csv')\n",
    "\n",
    "data = pd.concat([x_train, y_train], axis=1)\n",
    "\n",
    "x_test_passenger_id = x_test['PassengerId']\n",
    "x_train = x_train.drop(columns=['PassengerId'])\n",
    "x_test = x_test.drop(columns=['PassengerId'])\n",
    "y_train = y_train.drop(columns=['PassengerId'])\n",
    "x_train = x_train.drop(columns=['티켓번호', '승객이름'])\n",
    "x_test = x_test.drop(columns=['티켓번호', '승객이름'])\n",
    "x_train = x_train.drop(columns=['나이', '객실번호'])\n",
    "x_test = x_test.drop(columns=['나이', '객실번호'])\n",
    "\n",
    "x_train['선착장'] = x_train['선착장'].fillna('S')\n",
    "x_train['성별'] = x_train['성별'].replace('male', 0).replace('female', 1)\n",
    "x_test['성별'] = x_test['성별'].replace('male', 0).replace('female', 1)\n",
    "\n",
    "선착장_dummy = pd.get_dummies(x_train['선착장'], drop_first=True).rename(columns={'Q':'선착장Q', 'S':'선착장S'})\n",
    "x_train = pd.concat([x_train, 선착장_dummy], axis=1)\n",
    "x_train = x_train.drop(columns=['선착장'])\n",
    "선착장_dummy = pd.get_dummies(x_test['선착장'], drop_first=True).rename(columns={'Q':'선착장Q', 'S':'선착장S'})\n",
    "x_test = pd.concat([x_test, 선착장_dummy], axis=1)\n",
    "x_test = x_test.drop(columns=['선착장'])\n",
    "\n",
    "x_train['가족수'] = x_train['형제자매배우자수'] + x_train['부모자식수']\n",
    "x_train = x_train.drop(columns=['형제자매배우자수', '부모자식수'])\n",
    "x_test['가족수'] = x_test['형제자매배우자수'] + x_test['부모자식수']\n",
    "x_test = x_test.drop(columns=['형제자매배우자수', '부모자식수'])\n",
    "\n",
    "from sklearn.model_selection import train_test_split\n",
    "X_TRAIN, X_TEST, Y_TRAIN, Y_TEST = train_test_split(x_train, y_train, test_size=0.3, random_state=10)\n",
    "\n",
    "from xgboost import XGBClassifier\n",
    "model = XGBClassifier(n_estimators=150, max_depth=10, eval_metric='error', random_state=10)\n",
    "model.fit(X_TRAIN, Y_TRAIN)\n",
    "\n",
    "y_test_predicted = pd.DataFrame(model.predict(x_test)).rename(columns={0:'Survived'})\n",
    "Y_TEST_PREDICTED = pd.DataFrame(model.predict(X_TEST))\n",
    "\n",
    "from sklearn.metrics import roc_auc_score\n",
    "print(roc_auc_score(Y_TEST, Y_TEST_PREDICTED))\n",
    "\n",
    "# final = pd.concat([x_test_passenger_id, Y_TEST_PREDICTED], axis=1)\n",
    "# final.to_csv('/12345.csv', index=False)"
   ],
   "outputs": [
    {
     "output_type": "stream",
     "name": "stderr",
     "text": [
      "/Users/dabeen/opt/anaconda3/lib/python3.8/site-packages/xgboost/sklearn.py:888: UserWarning: The use of label encoder in XGBClassifier is deprecated and will be removed in a future release. To remove this warning, do the following: 1) Pass option use_label_encoder=False when constructing XGBClassifier object; and 2) Encode your labels (y) as integers starting with 0, i.e. 0, 1, 2, ..., [num_class - 1].\n",
      "  warnings.warn(label_encoder_deprecation_msg, UserWarning)\n",
      "/Users/dabeen/opt/anaconda3/lib/python3.8/site-packages/sklearn/utils/validation.py:63: DataConversionWarning: A column-vector y was passed when a 1d array was expected. Please change the shape of y to (n_samples, ), for example using ravel().\n",
      "  return f(*args, **kwargs)\n"
     ]
    },
    {
     "output_type": "stream",
     "name": "stdout",
     "text": [
      "0.8005013450721448\n"
     ]
    }
   ],
   "metadata": {}
  },
  {
   "cell_type": "code",
   "execution_count": 55,
   "source": [
    "import pandas as pd\n",
    "from xgboost import XGBClassifier\n",
    "from sklearn.model_selection import train_test_split, GridSearchCV\n",
    "from sklearn.metrics import roc_auc_score\n",
    "import warnings\n",
    "warnings.filterwarnings('ignore')\n",
    "\n",
    "x_train = pd.read_csv('/Users/dabeen/Desktop/DA_01/bigData-main/titanic_x_train.csv', encoding='cp949')\n",
    "x_test = pd.read_csv('/Users/dabeen/Desktop/DA_01/bigData-main/titanic_x_test.csv', encoding='cp949')\n",
    "y_train = pd.read_csv('/Users/dabeen/Desktop/DA_01/bigData-main/titanic_y_train.csv')\n",
    "\n",
    "data = pd.concat([x_train, y_train], axis=1)\n",
    "\n",
    "x_test_passenger_id = x_test['PassengerId']\n",
    "x_train = x_train.drop(columns=['PassengerId'])\n",
    "x_test = x_test.drop(columns=['PassengerId'])\n",
    "y_train = y_train.drop(columns=['PassengerId'])\n",
    "x_train = x_train.drop(columns=['티켓번호', '승객이름'])\n",
    "x_test = x_test.drop(columns=['티켓번호', '승객이름'])\n",
    "x_train = x_train.drop(columns=['나이', '객실번호'])\n",
    "x_test = x_test.drop(columns=['나이', '객실번호'])\n",
    "\n",
    "x_train['선착장'] = x_train['선착장'].fillna('S')\n",
    "x_train['성별'] = x_train['성별'].replace('male', 0).replace('female', 1)\n",
    "x_test['성별'] = x_test['성별'].replace('male', 0).replace('female', 1)\n",
    "\n",
    "선착장_dummy = pd.get_dummies(x_train['선착장'], drop_first=True).rename(columns={'Q':'선착장Q', 'S':'선착장S'})\n",
    "x_train = pd.concat([x_train, 선착장_dummy], axis=1)\n",
    "x_train = x_train.drop(columns=['선착장'])\n",
    "선착장_dummy = pd.get_dummies(x_test['선착장'], drop_first=True).rename(columns={'Q':'선착장Q', 'S':'선착장S'})\n",
    "x_test = pd.concat([x_test, 선착장_dummy], axis=1)\n",
    "x_test = x_test.drop(columns=['선착장'])\n",
    "\n",
    "x_train['가족수'] = x_train['형제자매배우자수'] + x_train['부모자식수']\n",
    "x_train = x_train.drop(columns=['형제자매배우자수', '부모자식수'])\n",
    "x_test['가족수'] = x_test['형제자매배우자수'] + x_test['부모자식수']\n",
    "x_test = x_test.drop(columns=['형제자매배우자수', '부모자식수'])\n",
    "\n",
    "X_TRAIN, X_TEST, Y_TRAIN, Y_TEST = train_test_split(x_train, y_train, test_size=0.3, random_state=10)\n",
    "\n",
    "# model = XGBClassifier()\n",
    "\n",
    "# param_grid = {'n_estimators':[50, 100, 150, 200], 'max_depth':[6, 8, 10, 12, 14], 'min_samples_split':[0.2, 0.25, 0.3]}\n",
    "# grid_search = GridSearchCV(estimator=model, param_grid=param_grid, cv=3)\n",
    "# grid_search.fit(X_TRAIN, Y_TRAIN)\n",
    "\n",
    "# print('best_score : ', grid_search.best_score_)\n",
    "# print('best_params : ', grid_search.best_params_)\n",
    "\n",
    "model = XGBClassifier(n_estimators=150, max_depth=10, eval_metric='error', random_state=10)\n",
    "model.fit(X_TRAIN, Y_TRAIN)\n",
    "\n",
    "y_test_predicted = pd.DataFrame(model.predict(x_test)).rename(columns={0:'Survived'})\n",
    "Y_TEST_PREDICTED = pd.DataFrame(model.predict(X_TEST))\n",
    "\n",
    "print('roc_auc_score : ', roc_auc_score(Y_TEST, Y_TEST_PREDICTED))\n",
    "\n",
    "# final = pd.concat([x_test_passenger_id, Y_TEST_PREDICTED], axis=1)\n",
    "# final.to_csv('/12345.csv', index=False)"
   ],
   "outputs": [
    {
     "output_type": "stream",
     "name": "stdout",
     "text": [
      "roc_auc_score :  0.8005013450721448\n"
     ]
    }
   ],
   "metadata": {}
  },
  {
   "cell_type": "code",
   "execution_count": null,
   "source": [],
   "outputs": [],
   "metadata": {}
  }
 ],
 "metadata": {
  "orig_nbformat": 4,
  "language_info": {
   "name": "python",
   "version": "3.8.8",
   "mimetype": "text/x-python",
   "codemirror_mode": {
    "name": "ipython",
    "version": 3
   },
   "pygments_lexer": "ipython3",
   "nbconvert_exporter": "python",
   "file_extension": ".py"
  },
  "kernelspec": {
   "name": "python3",
   "display_name": "Python 3.8.8 64-bit ('base': conda)"
  },
  "interpreter": {
   "hash": "1ae0b816e4ca1e0debe4793f5089eb4352941371641f734a80f9bdac6d69a3c5"
  }
 },
 "nbformat": 4,
 "nbformat_minor": 2
}