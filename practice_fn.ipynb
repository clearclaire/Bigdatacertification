{
 "cells": [
  {
   "cell_type": "code",
   "execution_count": 1,
   "source": [
    "# 작업형 제 1유형"
   ],
   "outputs": [],
   "metadata": {}
  },
  {
   "cell_type": "code",
   "execution_count": 3,
   "source": [
    "## 01\n",
    "# 다음은 California Housing 데이터 세트이다. 데이터 중 결측치가 있는 경우 해당 데이터의 행을 모두 제거하고, \n",
    "# 첫 번째 행부터 순서대로 70% 까지의 데이터를 훈련 데이터로 추출한 데이터 세트를 구성한다. \n",
    "# 변수 중 'housing_median_age'의 Q1(제1사분위수) 값을 정수로 계산하시오"
   ],
   "outputs": [],
   "metadata": {}
  },
  {
   "cell_type": "code",
   "execution_count": 8,
   "source": [
    "import pandas as pd\n",
    "\n",
    "df = pd.read_csv('/Users/dabeen/Desktop/DA_01/yemoonsaBigdata/datasets/Part3/202_housing.csv')\n",
    "\n",
    "df_1 = df[df.isnull()==False]\n",
    "\n",
    "print(int(round(df_1.iloc[:int(0.7*len(df_1))].housing_median_age.quantile(0.25))))"
   ],
   "outputs": [
    {
     "output_type": "stream",
     "name": "stdout",
     "text": [
      "19\n"
     ]
    }
   ],
   "metadata": {}
  },
  {
   "cell_type": "code",
   "execution_count": null,
   "source": [
    "## 02\n",
    "# 다음은 국가별 연도별 인구 10만 명당 결핵 유병률 데이터 세이트이다. 2000년도의 국가별 결핵 유병률 데이터"
   ],
   "outputs": [],
   "metadata": {}
  }
 ],
 "metadata": {
  "orig_nbformat": 4,
  "language_info": {
   "name": "python",
   "version": "3.10.0",
   "mimetype": "text/x-python",
   "codemirror_mode": {
    "name": "ipython",
    "version": 3
   },
   "pygments_lexer": "ipython3",
   "nbconvert_exporter": "python",
   "file_extension": ".py"
  },
  "kernelspec": {
   "name": "python3",
   "display_name": "Python 3.10.0 64-bit"
  },
  "interpreter": {
   "hash": "4cd7ab41f5fca4b9b44701077e38c5ffd31fe66a6cab21e0214b68d958d0e462"
  }
 },
 "nbformat": 4,
 "nbformat_minor": 2
}